{
 "cells": [
  {
   "cell_type": "code",
   "execution_count": 1,
   "metadata": {},
   "outputs": [],
   "source": [
    "import pandas as pd\n",
    "import matplotlib.pyplot as plt\n",
    "import seaborn as sns; sns.set()\n",
    "import numpy as np\n",
    "from sklearn.preprocessing import StandardScaler\n",
    "%matplotlib inline"
   ]
  },
  {
   "cell_type": "code",
   "execution_count": 2,
   "metadata": {
    "scrolled": true
   },
   "outputs": [],
   "source": [
    "heartdata = pd.read_csv('heart_kaggle_project.csv')\n",
    "#leaving out some data checks and descriptive statistics because contained in data transformation and scouting NB"
   ]
  },
  {
   "cell_type": "code",
   "execution_count": 3,
   "metadata": {},
   "outputs": [],
   "source": [
    "heartdata = heartdata.reindex(np.random.permutation(heartdata.index))"
   ]
  },
  {
   "cell_type": "code",
   "execution_count": 4,
   "metadata": {},
   "outputs": [
    {
     "data": {
      "text/html": [
       "<div>\n",
       "<style scoped>\n",
       "    .dataframe tbody tr th:only-of-type {\n",
       "        vertical-align: middle;\n",
       "    }\n",
       "\n",
       "    .dataframe tbody tr th {\n",
       "        vertical-align: top;\n",
       "    }\n",
       "\n",
       "    .dataframe thead th {\n",
       "        text-align: right;\n",
       "    }\n",
       "</style>\n",
       "<table border=\"1\" class=\"dataframe\">\n",
       "  <thead>\n",
       "    <tr style=\"text-align: right;\">\n",
       "      <th></th>\n",
       "      <th>age</th>\n",
       "      <th>sex</th>\n",
       "      <th>cp</th>\n",
       "      <th>trestbps</th>\n",
       "      <th>chol</th>\n",
       "      <th>fbs</th>\n",
       "      <th>restecg</th>\n",
       "      <th>thalach</th>\n",
       "      <th>exang</th>\n",
       "      <th>oldpeak</th>\n",
       "      <th>slope</th>\n",
       "      <th>ca</th>\n",
       "      <th>thal</th>\n",
       "      <th>target</th>\n",
       "    </tr>\n",
       "  </thead>\n",
       "  <tbody>\n",
       "    <tr>\n",
       "      <th>0</th>\n",
       "      <td>64</td>\n",
       "      <td>0</td>\n",
       "      <td>2</td>\n",
       "      <td>140</td>\n",
       "      <td>313</td>\n",
       "      <td>0</td>\n",
       "      <td>1</td>\n",
       "      <td>133</td>\n",
       "      <td>0</td>\n",
       "      <td>0.2</td>\n",
       "      <td>2</td>\n",
       "      <td>0</td>\n",
       "      <td>3</td>\n",
       "      <td>1</td>\n",
       "    </tr>\n",
       "    <tr>\n",
       "      <th>1</th>\n",
       "      <td>62</td>\n",
       "      <td>0</td>\n",
       "      <td>0</td>\n",
       "      <td>140</td>\n",
       "      <td>394</td>\n",
       "      <td>0</td>\n",
       "      <td>0</td>\n",
       "      <td>157</td>\n",
       "      <td>0</td>\n",
       "      <td>1.2</td>\n",
       "      <td>1</td>\n",
       "      <td>0</td>\n",
       "      <td>2</td>\n",
       "      <td>1</td>\n",
       "    </tr>\n",
       "    <tr>\n",
       "      <th>2</th>\n",
       "      <td>52</td>\n",
       "      <td>1</td>\n",
       "      <td>1</td>\n",
       "      <td>128</td>\n",
       "      <td>205</td>\n",
       "      <td>1</td>\n",
       "      <td>1</td>\n",
       "      <td>184</td>\n",
       "      <td>0</td>\n",
       "      <td>0.0</td>\n",
       "      <td>2</td>\n",
       "      <td>0</td>\n",
       "      <td>2</td>\n",
       "      <td>1</td>\n",
       "    </tr>\n",
       "    <tr>\n",
       "      <th>3</th>\n",
       "      <td>51</td>\n",
       "      <td>0</td>\n",
       "      <td>2</td>\n",
       "      <td>140</td>\n",
       "      <td>308</td>\n",
       "      <td>0</td>\n",
       "      <td>0</td>\n",
       "      <td>142</td>\n",
       "      <td>0</td>\n",
       "      <td>1.5</td>\n",
       "      <td>2</td>\n",
       "      <td>1</td>\n",
       "      <td>2</td>\n",
       "      <td>1</td>\n",
       "    </tr>\n",
       "    <tr>\n",
       "      <th>4</th>\n",
       "      <td>44</td>\n",
       "      <td>1</td>\n",
       "      <td>2</td>\n",
       "      <td>120</td>\n",
       "      <td>226</td>\n",
       "      <td>0</td>\n",
       "      <td>1</td>\n",
       "      <td>169</td>\n",
       "      <td>0</td>\n",
       "      <td>0.0</td>\n",
       "      <td>2</td>\n",
       "      <td>0</td>\n",
       "      <td>2</td>\n",
       "      <td>1</td>\n",
       "    </tr>\n",
       "  </tbody>\n",
       "</table>\n",
       "</div>"
      ],
      "text/plain": [
       "   age  sex  cp  trestbps  chol  fbs  restecg  thalach  exang  oldpeak  slope  \\\n",
       "0   64    0   2       140   313    0        1      133      0      0.2      2   \n",
       "1   62    0   0       140   394    0        0      157      0      1.2      1   \n",
       "2   52    1   1       128   205    1        1      184      0      0.0      2   \n",
       "3   51    0   2       140   308    0        0      142      0      1.5      2   \n",
       "4   44    1   2       120   226    0        1      169      0      0.0      2   \n",
       "\n",
       "   ca  thal  target  \n",
       "0   0     3       1  \n",
       "1   0     2       1  \n",
       "2   0     2       1  \n",
       "3   1     2       1  \n",
       "4   0     2       1  "
      ]
     },
     "execution_count": 4,
     "metadata": {},
     "output_type": "execute_result"
    }
   ],
   "source": [
    "heartdata = heartdata.reset_index(drop=True)\n",
    "heartdata.head()"
   ]
  },
  {
   "cell_type": "code",
   "execution_count": 5,
   "metadata": {},
   "outputs": [],
   "source": [
    "#scaling continuous variables, I am including restecg, slope, and ca because I think of\n",
    "#these as directional values, not categorical"
   ]
  },
  {
   "cell_type": "code",
   "execution_count": 6,
   "metadata": {},
   "outputs": [
    {
     "name": "stderr",
     "output_type": "stream",
     "text": [
      "C:\\Users\\kathy\\Anaconda3\\lib\\site-packages\\sklearn\\preprocessing\\data.py:625: DataConversionWarning: Data with input dtype int64, float64 were all converted to float64 by StandardScaler.\n",
      "  return self.partial_fit(X, y)\n",
      "C:\\Users\\kathy\\Anaconda3\\lib\\site-packages\\sklearn\\base.py:462: DataConversionWarning: Data with input dtype int64, float64 were all converted to float64 by StandardScaler.\n",
      "  return self.fit(X, **fit_params).transform(X)\n"
     ]
    },
    {
     "data": {
      "text/html": [
       "<div>\n",
       "<style scoped>\n",
       "    .dataframe tbody tr th:only-of-type {\n",
       "        vertical-align: middle;\n",
       "    }\n",
       "\n",
       "    .dataframe tbody tr th {\n",
       "        vertical-align: top;\n",
       "    }\n",
       "\n",
       "    .dataframe thead th {\n",
       "        text-align: right;\n",
       "    }\n",
       "</style>\n",
       "<table border=\"1\" class=\"dataframe\">\n",
       "  <thead>\n",
       "    <tr style=\"text-align: right;\">\n",
       "      <th></th>\n",
       "      <th>age</th>\n",
       "      <th>sex</th>\n",
       "      <th>cp</th>\n",
       "      <th>trestbps</th>\n",
       "      <th>chol</th>\n",
       "      <th>fbs</th>\n",
       "      <th>restecg</th>\n",
       "      <th>thalach</th>\n",
       "      <th>exang</th>\n",
       "      <th>oldpeak</th>\n",
       "      <th>slope</th>\n",
       "      <th>ca</th>\n",
       "      <th>thal</th>\n",
       "      <th>target</th>\n",
       "    </tr>\n",
       "  </thead>\n",
       "  <tbody>\n",
       "    <tr>\n",
       "      <th>0</th>\n",
       "      <td>1.062485</td>\n",
       "      <td>0</td>\n",
       "      <td>2</td>\n",
       "      <td>0.478391</td>\n",
       "      <td>1.289705</td>\n",
       "      <td>0</td>\n",
       "      <td>0.898962</td>\n",
       "      <td>-0.727976</td>\n",
       "      <td>0</td>\n",
       "      <td>-0.724323</td>\n",
       "      <td>0.976352</td>\n",
       "      <td>-0.714429</td>\n",
       "      <td>3</td>\n",
       "      <td>1</td>\n",
       "    </tr>\n",
       "    <tr>\n",
       "      <th>1</th>\n",
       "      <td>0.841908</td>\n",
       "      <td>0</td>\n",
       "      <td>0</td>\n",
       "      <td>0.478391</td>\n",
       "      <td>2.855069</td>\n",
       "      <td>0</td>\n",
       "      <td>-1.005832</td>\n",
       "      <td>0.321556</td>\n",
       "      <td>0</td>\n",
       "      <td>0.138373</td>\n",
       "      <td>-0.649113</td>\n",
       "      <td>-0.714429</td>\n",
       "      <td>2</td>\n",
       "      <td>1</td>\n",
       "    </tr>\n",
       "    <tr>\n",
       "      <th>2</th>\n",
       "      <td>-0.260980</td>\n",
       "      <td>1</td>\n",
       "      <td>1</td>\n",
       "      <td>-0.206964</td>\n",
       "      <td>-0.797447</td>\n",
       "      <td>1</td>\n",
       "      <td>0.898962</td>\n",
       "      <td>1.502280</td>\n",
       "      <td>0</td>\n",
       "      <td>-0.896862</td>\n",
       "      <td>0.976352</td>\n",
       "      <td>-0.714429</td>\n",
       "      <td>2</td>\n",
       "      <td>1</td>\n",
       "    </tr>\n",
       "    <tr>\n",
       "      <th>3</th>\n",
       "      <td>-0.371269</td>\n",
       "      <td>0</td>\n",
       "      <td>2</td>\n",
       "      <td>0.478391</td>\n",
       "      <td>1.193077</td>\n",
       "      <td>0</td>\n",
       "      <td>-1.005832</td>\n",
       "      <td>-0.334401</td>\n",
       "      <td>0</td>\n",
       "      <td>0.397182</td>\n",
       "      <td>0.976352</td>\n",
       "      <td>0.265082</td>\n",
       "      <td>2</td>\n",
       "      <td>1</td>\n",
       "    </tr>\n",
       "    <tr>\n",
       "      <th>4</th>\n",
       "      <td>-1.143291</td>\n",
       "      <td>1</td>\n",
       "      <td>2</td>\n",
       "      <td>-0.663867</td>\n",
       "      <td>-0.391612</td>\n",
       "      <td>0</td>\n",
       "      <td>0.898962</td>\n",
       "      <td>0.846322</td>\n",
       "      <td>0</td>\n",
       "      <td>-0.896862</td>\n",
       "      <td>0.976352</td>\n",
       "      <td>-0.714429</td>\n",
       "      <td>2</td>\n",
       "      <td>1</td>\n",
       "    </tr>\n",
       "  </tbody>\n",
       "</table>\n",
       "</div>"
      ],
      "text/plain": [
       "        age  sex  cp  trestbps      chol  fbs   restecg   thalach  exang  \\\n",
       "0  1.062485    0   2  0.478391  1.289705    0  0.898962 -0.727976      0   \n",
       "1  0.841908    0   0  0.478391  2.855069    0 -1.005832  0.321556      0   \n",
       "2 -0.260980    1   1 -0.206964 -0.797447    1  0.898962  1.502280      0   \n",
       "3 -0.371269    0   2  0.478391  1.193077    0 -1.005832 -0.334401      0   \n",
       "4 -1.143291    1   2 -0.663867 -0.391612    0  0.898962  0.846322      0   \n",
       "\n",
       "    oldpeak     slope        ca  thal  target  \n",
       "0 -0.724323  0.976352 -0.714429     3       1  \n",
       "1  0.138373 -0.649113 -0.714429     2       1  \n",
       "2 -0.896862  0.976352 -0.714429     2       1  \n",
       "3  0.397182  0.976352  0.265082     2       1  \n",
       "4 -0.896862  0.976352 -0.714429     2       1  "
      ]
     },
     "execution_count": 6,
     "metadata": {},
     "output_type": "execute_result"
    }
   ],
   "source": [
    "heartdata[['age', 'trestbps', 'chol', 'restecg', 'thalach', 'oldpeak', 'slope', 'ca']] = StandardScaler().fit_transform(heartdata[['age', 'trestbps', 'chol','restecg', 'thalach', 'oldpeak', 'slope', 'ca']])\n",
    "heartdata.head()"
   ]
  },
  {
   "cell_type": "code",
   "execution_count": 7,
   "metadata": {},
   "outputs": [
    {
     "data": {
      "text/html": [
       "<div>\n",
       "<style scoped>\n",
       "    .dataframe tbody tr th:only-of-type {\n",
       "        vertical-align: middle;\n",
       "    }\n",
       "\n",
       "    .dataframe tbody tr th {\n",
       "        vertical-align: top;\n",
       "    }\n",
       "\n",
       "    .dataframe thead th {\n",
       "        text-align: right;\n",
       "    }\n",
       "</style>\n",
       "<table border=\"1\" class=\"dataframe\">\n",
       "  <thead>\n",
       "    <tr style=\"text-align: right;\">\n",
       "      <th></th>\n",
       "      <th>age</th>\n",
       "      <th>trestbps</th>\n",
       "      <th>chol</th>\n",
       "      <th>restecg</th>\n",
       "      <th>thalach</th>\n",
       "      <th>oldpeak</th>\n",
       "      <th>slope</th>\n",
       "      <th>ca</th>\n",
       "    </tr>\n",
       "  </thead>\n",
       "  <tbody>\n",
       "    <tr>\n",
       "      <th>0</th>\n",
       "      <td>1.062485</td>\n",
       "      <td>0.478391</td>\n",
       "      <td>1.289705</td>\n",
       "      <td>0.898962</td>\n",
       "      <td>-0.727976</td>\n",
       "      <td>-0.724323</td>\n",
       "      <td>0.976352</td>\n",
       "      <td>-0.714429</td>\n",
       "    </tr>\n",
       "    <tr>\n",
       "      <th>1</th>\n",
       "      <td>0.841908</td>\n",
       "      <td>0.478391</td>\n",
       "      <td>2.855069</td>\n",
       "      <td>-1.005832</td>\n",
       "      <td>0.321556</td>\n",
       "      <td>0.138373</td>\n",
       "      <td>-0.649113</td>\n",
       "      <td>-0.714429</td>\n",
       "    </tr>\n",
       "    <tr>\n",
       "      <th>2</th>\n",
       "      <td>-0.260980</td>\n",
       "      <td>-0.206964</td>\n",
       "      <td>-0.797447</td>\n",
       "      <td>0.898962</td>\n",
       "      <td>1.502280</td>\n",
       "      <td>-0.896862</td>\n",
       "      <td>0.976352</td>\n",
       "      <td>-0.714429</td>\n",
       "    </tr>\n",
       "    <tr>\n",
       "      <th>3</th>\n",
       "      <td>-0.371269</td>\n",
       "      <td>0.478391</td>\n",
       "      <td>1.193077</td>\n",
       "      <td>-1.005832</td>\n",
       "      <td>-0.334401</td>\n",
       "      <td>0.397182</td>\n",
       "      <td>0.976352</td>\n",
       "      <td>0.265082</td>\n",
       "    </tr>\n",
       "    <tr>\n",
       "      <th>4</th>\n",
       "      <td>-1.143291</td>\n",
       "      <td>-0.663867</td>\n",
       "      <td>-0.391612</td>\n",
       "      <td>0.898962</td>\n",
       "      <td>0.846322</td>\n",
       "      <td>-0.896862</td>\n",
       "      <td>0.976352</td>\n",
       "      <td>-0.714429</td>\n",
       "    </tr>\n",
       "  </tbody>\n",
       "</table>\n",
       "</div>"
      ],
      "text/plain": [
       "        age  trestbps      chol   restecg   thalach   oldpeak     slope  \\\n",
       "0  1.062485  0.478391  1.289705  0.898962 -0.727976 -0.724323  0.976352   \n",
       "1  0.841908  0.478391  2.855069 -1.005832  0.321556  0.138373 -0.649113   \n",
       "2 -0.260980 -0.206964 -0.797447  0.898962  1.502280 -0.896862  0.976352   \n",
       "3 -0.371269  0.478391  1.193077 -1.005832 -0.334401  0.397182  0.976352   \n",
       "4 -1.143291 -0.663867 -0.391612  0.898962  0.846322 -0.896862  0.976352   \n",
       "\n",
       "         ca  \n",
       "0 -0.714429  \n",
       "1 -0.714429  \n",
       "2 -0.714429  \n",
       "3  0.265082  \n",
       "4 -0.714429  "
      ]
     },
     "execution_count": 7,
     "metadata": {},
     "output_type": "execute_result"
    }
   ],
   "source": [
    "#drop categorical values\n",
    "x = heartdata.drop(['sex', 'cp', 'fbs', 'exang', 'thal', 'target'], axis = 1)\n",
    "x.head()"
   ]
  },
  {
   "cell_type": "code",
   "execution_count": 8,
   "metadata": {
    "scrolled": true
   },
   "outputs": [
    {
     "data": {
      "text/plain": [
       "0    1\n",
       "1    1\n",
       "2    1\n",
       "3    1\n",
       "4    1\n",
       "Name: target, dtype: int64"
      ]
     },
     "execution_count": 8,
     "metadata": {},
     "output_type": "execute_result"
    }
   ],
   "source": [
    "y = heartdata['target']\n",
    "y.head()"
   ]
  },
  {
   "cell_type": "code",
   "execution_count": 9,
   "metadata": {},
   "outputs": [],
   "source": [
    "from sklearn.decomposition import PCA\n",
    "pca = PCA(n_components=2)\n",
    "principalComponents = pca.fit_transform(x)\n",
    "principalDf = pd.DataFrame(data = principalComponents, columns = ['PC1', 'PC2'])"
   ]
  },
  {
   "cell_type": "code",
   "execution_count": 10,
   "metadata": {},
   "outputs": [
    {
     "data": {
      "text/plain": [
       "array([0.29109979, 0.16025912])"
      ]
     },
     "execution_count": 10,
     "metadata": {},
     "output_type": "execute_result"
    }
   ],
   "source": [
    "pca.explained_variance_ratio_"
   ]
  },
  {
   "cell_type": "code",
   "execution_count": 11,
   "metadata": {},
   "outputs": [
    {
     "name": "stdout",
     "output_type": "stream",
     "text": [
      "0.45135891102708386\n"
     ]
    }
   ],
   "source": [
    "print((pca.explained_variance_ratio_).sum())"
   ]
  },
  {
   "cell_type": "code",
   "execution_count": 12,
   "metadata": {},
   "outputs": [
    {
     "data": {
      "text/html": [
       "<div>\n",
       "<style scoped>\n",
       "    .dataframe tbody tr th:only-of-type {\n",
       "        vertical-align: middle;\n",
       "    }\n",
       "\n",
       "    .dataframe tbody tr th {\n",
       "        vertical-align: top;\n",
       "    }\n",
       "\n",
       "    .dataframe thead th {\n",
       "        text-align: right;\n",
       "    }\n",
       "</style>\n",
       "<table border=\"1\" class=\"dataframe\">\n",
       "  <thead>\n",
       "    <tr style=\"text-align: right;\">\n",
       "      <th></th>\n",
       "      <th>PC1</th>\n",
       "      <th>PC2</th>\n",
       "      <th>target</th>\n",
       "    </tr>\n",
       "  </thead>\n",
       "  <tbody>\n",
       "    <tr>\n",
       "      <th>0</th>\n",
       "      <td>-0.046910</td>\n",
       "      <td>1.215715</td>\n",
       "      <td>1</td>\n",
       "    </tr>\n",
       "    <tr>\n",
       "      <th>1</th>\n",
       "      <td>1.063511</td>\n",
       "      <td>2.076105</td>\n",
       "      <td>1</td>\n",
       "    </tr>\n",
       "    <tr>\n",
       "      <th>2</th>\n",
       "      <td>-2.162716</td>\n",
       "      <td>-0.070059</td>\n",
       "      <td>1</td>\n",
       "    </tr>\n",
       "    <tr>\n",
       "      <th>3</th>\n",
       "      <td>0.293917</td>\n",
       "      <td>1.343118</td>\n",
       "      <td>1</td>\n",
       "    </tr>\n",
       "    <tr>\n",
       "      <th>4</th>\n",
       "      <td>-2.303076</td>\n",
       "      <td>-0.419929</td>\n",
       "      <td>1</td>\n",
       "    </tr>\n",
       "  </tbody>\n",
       "</table>\n",
       "</div>"
      ],
      "text/plain": [
       "        PC1       PC2  target\n",
       "0 -0.046910  1.215715       1\n",
       "1  1.063511  2.076105       1\n",
       "2 -2.162716 -0.070059       1\n",
       "3  0.293917  1.343118       1\n",
       "4 -2.303076 -0.419929       1"
      ]
     },
     "execution_count": 12,
     "metadata": {},
     "output_type": "execute_result"
    }
   ],
   "source": [
    "finalDf = pd.concat([principalDf, heartdata[['target']]], axis = 1)\n",
    "finalDf.head()"
   ]
  },
  {
   "cell_type": "code",
   "execution_count": 13,
   "metadata": {},
   "outputs": [
    {
     "data": {
      "image/png": "[encoded data removed]",
      "text/plain": [
       "<Figure size 360x360 with 1 Axes>"
      ]
     },
     "metadata": {
      "needs_background": "light"
     },
     "output_type": "display_data"
    }
   ],
   "source": [
    "fig = plt.figure(figsize = (5,5))\n",
    "ax = fig.add_subplot(1,1,1) \n",
    "ax.set_xlabel('PC1', fontsize = 15)\n",
    "ax.set_ylabel('PC2', fontsize = 15)\n",
    "ax.set_title('2 component PCA', fontsize = 20)\n",
    "targets = [0, 1]\n",
    "colors = ['b', 'r']\n",
    "for target, color in zip(targets,colors):\n",
    "    indicesToKeep = finalDf['target'] == target\n",
    "    ax.scatter(finalDf.loc[indicesToKeep, 'PC1']\n",
    "               , finalDf.loc[indicesToKeep, 'PC2']\n",
    "               , c = color\n",
    "               , s = 50)\n",
    "ax.legend(targets)\n",
    "ax.grid()"
   ]
  },
  {
   "cell_type": "code",
   "execution_count": 14,
   "metadata": {},
   "outputs": [],
   "source": [
    "#not very satisfying - and it's known correlation between target and some categorical data is \"good\"\n",
    "#so adding in sex, cp, exang, thal "
   ]
  },
  {
   "cell_type": "code",
   "execution_count": 15,
   "metadata": {},
   "outputs": [
    {
     "data": {
      "text/html": [
       "<div>\n",
       "<style scoped>\n",
       "    .dataframe tbody tr th:only-of-type {\n",
       "        vertical-align: middle;\n",
       "    }\n",
       "\n",
       "    .dataframe tbody tr th {\n",
       "        vertical-align: top;\n",
       "    }\n",
       "\n",
       "    .dataframe thead th {\n",
       "        text-align: right;\n",
       "    }\n",
       "</style>\n",
       "<table border=\"1\" class=\"dataframe\">\n",
       "  <thead>\n",
       "    <tr style=\"text-align: right;\">\n",
       "      <th></th>\n",
       "      <th>age</th>\n",
       "      <th>trestbps</th>\n",
       "      <th>chol</th>\n",
       "      <th>fbs</th>\n",
       "      <th>restecg</th>\n",
       "      <th>thalach</th>\n",
       "      <th>oldpeak</th>\n",
       "      <th>slope</th>\n",
       "      <th>ca</th>\n",
       "      <th>sex_0</th>\n",
       "      <th>...</th>\n",
       "      <th>cp_0</th>\n",
       "      <th>cp_1</th>\n",
       "      <th>cp_2</th>\n",
       "      <th>cp_3</th>\n",
       "      <th>exang_0</th>\n",
       "      <th>exang_1</th>\n",
       "      <th>thal_0</th>\n",
       "      <th>thal_1</th>\n",
       "      <th>thal_2</th>\n",
       "      <th>thal_3</th>\n",
       "    </tr>\n",
       "  </thead>\n",
       "  <tbody>\n",
       "    <tr>\n",
       "      <th>0</th>\n",
       "      <td>1.062485</td>\n",
       "      <td>0.478391</td>\n",
       "      <td>1.289705</td>\n",
       "      <td>0</td>\n",
       "      <td>0.898962</td>\n",
       "      <td>-0.727976</td>\n",
       "      <td>-0.724323</td>\n",
       "      <td>0.976352</td>\n",
       "      <td>-0.714429</td>\n",
       "      <td>1</td>\n",
       "      <td>...</td>\n",
       "      <td>0</td>\n",
       "      <td>0</td>\n",
       "      <td>1</td>\n",
       "      <td>0</td>\n",
       "      <td>1</td>\n",
       "      <td>0</td>\n",
       "      <td>0</td>\n",
       "      <td>0</td>\n",
       "      <td>0</td>\n",
       "      <td>1</td>\n",
       "    </tr>\n",
       "    <tr>\n",
       "      <th>1</th>\n",
       "      <td>0.841908</td>\n",
       "      <td>0.478391</td>\n",
       "      <td>2.855069</td>\n",
       "      <td>0</td>\n",
       "      <td>-1.005832</td>\n",
       "      <td>0.321556</td>\n",
       "      <td>0.138373</td>\n",
       "      <td>-0.649113</td>\n",
       "      <td>-0.714429</td>\n",
       "      <td>1</td>\n",
       "      <td>...</td>\n",
       "      <td>1</td>\n",
       "      <td>0</td>\n",
       "      <td>0</td>\n",
       "      <td>0</td>\n",
       "      <td>1</td>\n",
       "      <td>0</td>\n",
       "      <td>0</td>\n",
       "      <td>0</td>\n",
       "      <td>1</td>\n",
       "      <td>0</td>\n",
       "    </tr>\n",
       "    <tr>\n",
       "      <th>2</th>\n",
       "      <td>-0.260980</td>\n",
       "      <td>-0.206964</td>\n",
       "      <td>-0.797447</td>\n",
       "      <td>1</td>\n",
       "      <td>0.898962</td>\n",
       "      <td>1.502280</td>\n",
       "      <td>-0.896862</td>\n",
       "      <td>0.976352</td>\n",
       "      <td>-0.714429</td>\n",
       "      <td>0</td>\n",
       "      <td>...</td>\n",
       "      <td>0</td>\n",
       "      <td>1</td>\n",
       "      <td>0</td>\n",
       "      <td>0</td>\n",
       "      <td>1</td>\n",
       "      <td>0</td>\n",
       "      <td>0</td>\n",
       "      <td>0</td>\n",
       "      <td>1</td>\n",
       "      <td>0</td>\n",
       "    </tr>\n",
       "    <tr>\n",
       "      <th>3</th>\n",
       "      <td>-0.371269</td>\n",
       "      <td>0.478391</td>\n",
       "      <td>1.193077</td>\n",
       "      <td>0</td>\n",
       "      <td>-1.005832</td>\n",
       "      <td>-0.334401</td>\n",
       "      <td>0.397182</td>\n",
       "      <td>0.976352</td>\n",
       "      <td>0.265082</td>\n",
       "      <td>1</td>\n",
       "      <td>...</td>\n",
       "      <td>0</td>\n",
       "      <td>0</td>\n",
       "      <td>1</td>\n",
       "      <td>0</td>\n",
       "      <td>1</td>\n",
       "      <td>0</td>\n",
       "      <td>0</td>\n",
       "      <td>0</td>\n",
       "      <td>1</td>\n",
       "      <td>0</td>\n",
       "    </tr>\n",
       "    <tr>\n",
       "      <th>4</th>\n",
       "      <td>-1.143291</td>\n",
       "      <td>-0.663867</td>\n",
       "      <td>-0.391612</td>\n",
       "      <td>0</td>\n",
       "      <td>0.898962</td>\n",
       "      <td>0.846322</td>\n",
       "      <td>-0.896862</td>\n",
       "      <td>0.976352</td>\n",
       "      <td>-0.714429</td>\n",
       "      <td>0</td>\n",
       "      <td>...</td>\n",
       "      <td>0</td>\n",
       "      <td>0</td>\n",
       "      <td>1</td>\n",
       "      <td>0</td>\n",
       "      <td>1</td>\n",
       "      <td>0</td>\n",
       "      <td>0</td>\n",
       "      <td>0</td>\n",
       "      <td>1</td>\n",
       "      <td>0</td>\n",
       "    </tr>\n",
       "  </tbody>\n",
       "</table>\n",
       "<p>5 rows × 21 columns</p>\n",
       "</div>"
      ],
      "text/plain": [
       "        age  trestbps      chol  fbs   restecg   thalach   oldpeak     slope  \\\n",
       "0  1.062485  0.478391  1.289705    0  0.898962 -0.727976 -0.724323  0.976352   \n",
       "1  0.841908  0.478391  2.855069    0 -1.005832  0.321556  0.138373 -0.649113   \n",
       "2 -0.260980 -0.206964 -0.797447    1  0.898962  1.502280 -0.896862  0.976352   \n",
       "3 -0.371269  0.478391  1.193077    0 -1.005832 -0.334401  0.397182  0.976352   \n",
       "4 -1.143291 -0.663867 -0.391612    0  0.898962  0.846322 -0.896862  0.976352   \n",
       "\n",
       "         ca  sex_0   ...    cp_0  cp_1  cp_2  cp_3  exang_0  exang_1  thal_0  \\\n",
       "0 -0.714429      1   ...       0     0     1     0        1        0       0   \n",
       "1 -0.714429      1   ...       1     0     0     0        1        0       0   \n",
       "2 -0.714429      0   ...       0     1     0     0        1        0       0   \n",
       "3  0.265082      1   ...       0     0     1     0        1        0       0   \n",
       "4 -0.714429      0   ...       0     0     1     0        1        0       0   \n",
       "\n",
       "   thal_1  thal_2  thal_3  \n",
       "0       0       0       1  \n",
       "1       0       1       0  \n",
       "2       0       1       0  \n",
       "3       0       1       0  \n",
       "4       0       1       0  \n",
       "\n",
       "[5 rows x 21 columns]"
      ]
     },
     "execution_count": 15,
     "metadata": {},
     "output_type": "execute_result"
    }
   ],
   "source": [
    "x_d = pd.get_dummies(heartdata, columns=['sex', 'cp', 'exang', 'thal'])\n",
    "x_d = x_d.drop('target', axis = 1)\n",
    "x_d.head()"
   ]
  },
  {
   "cell_type": "code",
   "execution_count": 16,
   "metadata": {},
   "outputs": [],
   "source": [
    "from sklearn.decomposition import PCA\n",
    "pca = PCA(n_components=2)\n",
    "principalComponents = pca.fit_transform(x_d)\n",
    "principalDf2 = pd.DataFrame(data = principalComponents, columns = ['PC1', 'PC2'])"
   ]
  },
  {
   "cell_type": "code",
   "execution_count": 17,
   "metadata": {},
   "outputs": [
    {
     "data": {
      "text/plain": [
       "array([0.24981568, 0.12983318])"
      ]
     },
     "execution_count": 17,
     "metadata": {},
     "output_type": "execute_result"
    }
   ],
   "source": [
    "pca.explained_variance_ratio_"
   ]
  },
  {
   "cell_type": "code",
   "execution_count": 18,
   "metadata": {},
   "outputs": [
    {
     "name": "stdout",
     "output_type": "stream",
     "text": [
      "0.37964886375372\n"
     ]
    }
   ],
   "source": [
    "print((pca.explained_variance_ratio_).sum())"
   ]
  },
  {
   "cell_type": "code",
   "execution_count": 19,
   "metadata": {},
   "outputs": [
    {
     "data": {
      "text/html": [
       "<div>\n",
       "<style scoped>\n",
       "    .dataframe tbody tr th:only-of-type {\n",
       "        vertical-align: middle;\n",
       "    }\n",
       "\n",
       "    .dataframe tbody tr th {\n",
       "        vertical-align: top;\n",
       "    }\n",
       "\n",
       "    .dataframe thead th {\n",
       "        text-align: right;\n",
       "    }\n",
       "</style>\n",
       "<table border=\"1\" class=\"dataframe\">\n",
       "  <thead>\n",
       "    <tr style=\"text-align: right;\">\n",
       "      <th></th>\n",
       "      <th>PC1</th>\n",
       "      <th>PC2</th>\n",
       "      <th>target</th>\n",
       "    </tr>\n",
       "  </thead>\n",
       "  <tbody>\n",
       "    <tr>\n",
       "      <th>0</th>\n",
       "      <td>-0.171711</td>\n",
       "      <td>1.406604</td>\n",
       "      <td>1</td>\n",
       "    </tr>\n",
       "    <tr>\n",
       "      <th>1</th>\n",
       "      <td>0.775475</td>\n",
       "      <td>2.402233</td>\n",
       "      <td>1</td>\n",
       "    </tr>\n",
       "    <tr>\n",
       "      <th>2</th>\n",
       "      <td>-2.342693</td>\n",
       "      <td>-0.122073</td>\n",
       "      <td>1</td>\n",
       "    </tr>\n",
       "    <tr>\n",
       "      <th>3</th>\n",
       "      <td>-0.096790</td>\n",
       "      <td>1.567771</td>\n",
       "      <td>1</td>\n",
       "    </tr>\n",
       "    <tr>\n",
       "      <th>4</th>\n",
       "      <td>-2.451404</td>\n",
       "      <td>-0.554866</td>\n",
       "      <td>1</td>\n",
       "    </tr>\n",
       "  </tbody>\n",
       "</table>\n",
       "</div>"
      ],
      "text/plain": [
       "        PC1       PC2  target\n",
       "0 -0.171711  1.406604       1\n",
       "1  0.775475  2.402233       1\n",
       "2 -2.342693 -0.122073       1\n",
       "3 -0.096790  1.567771       1\n",
       "4 -2.451404 -0.554866       1"
      ]
     },
     "execution_count": 19,
     "metadata": {},
     "output_type": "execute_result"
    }
   ],
   "source": [
    "finalDf2 = pd.concat([principalDf2, heartdata[['target']]], axis = 1)\n",
    "finalDf2.head()"
   ]
  },
  {
   "cell_type": "code",
   "execution_count": 20,
   "metadata": {},
   "outputs": [
    {
     "data": {
      "image/png": "[encoded data removed]",
      "text/plain": [
       "<Figure size 360x360 with 1 Axes>"
      ]
     },
     "metadata": {
      "needs_background": "light"
     },
     "output_type": "display_data"
    }
   ],
   "source": [
    "fig = plt.figure(figsize = (5,5))\n",
    "ax = fig.add_subplot(1,1,1) \n",
    "ax.set_xlabel('PC1', fontsize = 15)\n",
    "ax.set_ylabel('PC2', fontsize = 15)\n",
    "ax.set_title('2 component PCA', fontsize = 20)\n",
    "targets = [0, 1]\n",
    "colors = ['b', 'r']\n",
    "for target, color in zip(targets,colors):\n",
    "    indicesToKeep = finalDf2['target'] == target\n",
    "    ax.scatter(finalDf2.loc[indicesToKeep, 'PC1']\n",
    "               , finalDf2.loc[indicesToKeep, 'PC2']\n",
    "               , c = color\n",
    "               , s = 50)\n",
    "ax.legend(targets)\n",
    "ax.grid()"
   ]
  },
  {
   "cell_type": "code",
   "execution_count": 21,
   "metadata": {},
   "outputs": [],
   "source": [
    "#Completely the same - the top 2 pricipal components are in the true numerical \n",
    "#data (age,trestbps,chol,restecg,thalach,oldpeak,slope, ca).\n",
    "#However, added variables cause PC1, PC2  to contribute less to the overall variance "
   ]
  },
  {
   "cell_type": "code",
   "execution_count": 22,
   "metadata": {},
   "outputs": [],
   "source": [
    "from sklearn.decomposition import PCA\n",
    "pca = PCA(n_components=3)\n",
    "principalComponents = pca.fit_transform(x_d)\n",
    "principalDf3 = pd.DataFrame(data = principalComponents, columns = ['PC1', 'PC2', 'PC3'])"
   ]
  },
  {
   "cell_type": "code",
   "execution_count": 23,
   "metadata": {},
   "outputs": [
    {
     "data": {
      "text/plain": [
       "array([0.24981568, 0.12983318, 0.09876902])"
      ]
     },
     "execution_count": 23,
     "metadata": {},
     "output_type": "execute_result"
    }
   ],
   "source": [
    "pca.explained_variance_ratio_"
   ]
  },
  {
   "cell_type": "code",
   "execution_count": 24,
   "metadata": {},
   "outputs": [
    {
     "name": "stdout",
     "output_type": "stream",
     "text": [
      "0.4784178818976405\n"
     ]
    }
   ],
   "source": [
    "print((pca.explained_variance_ratio_).sum())"
   ]
  },
  {
   "cell_type": "code",
   "execution_count": 25,
   "metadata": {},
   "outputs": [],
   "source": [
    "# even with 3 components, less than 50% of variance explained, will run models anyway..."
   ]
  },
  {
   "cell_type": "code",
   "execution_count": 26,
   "metadata": {},
   "outputs": [],
   "source": [
    "from sklearn.ensemble import RandomForestClassifier\n",
    "from sklearn import svm\n",
    "from sklearn.tree import DecisionTreeClassifier\n",
    "from sklearn.neighbors import KNeighborsClassifier\n",
    "from sklearn.linear_model import LogisticRegression\n",
    "from sklearn.ensemble import GradientBoostingClassifier\n",
    "from sklearn.ensemble import AdaBoostClassifier\n",
    "classifiers = []\n",
    "RFmodel = RandomForestClassifier()\n",
    "classifiers.append(RFmodel)\n",
    "SVMmodel = svm.SVC()\n",
    "classifiers.append(SVMmodel)\n",
    "DTmodel = DecisionTreeClassifier()\n",
    "classifiers.append(DTmodel)\n",
    "KNmodel = KNeighborsClassifier(n_neighbors=3)\n",
    "classifiers.append(KNmodel)\n",
    "LRmodel = LogisticRegression()\n",
    "classifiers.append(LRmodel)\n",
    "GBmodel = GradientBoostingClassifier()\n",
    "classifiers.append(GBmodel)\n",
    "ABmodel = AdaBoostClassifier()\n",
    "classifiers.append(ABmodel)"
   ]
  },
  {
   "cell_type": "code",
   "execution_count": 90,
   "metadata": {},
   "outputs": [
    {
     "ename": "ValueError",
     "evalue": "Found input variables with inconsistent numbers of samples: [303, 20]",
     "output_type": "error",
     "traceback": [
      "\u001b[1;31m---------------------------------------------------------------------------\u001b[0m",
      "\u001b[1;31mValueError\u001b[0m                                Traceback (most recent call last)",
      "\u001b[1;32m<ipython-input-90-e69e88492c1a>\u001b[0m in \u001b[0;36m<module>\u001b[1;34m\u001b[0m\n\u001b[0;32m      1\u001b[0m \u001b[1;31m# 3 component modeled\u001b[0m\u001b[1;33m\u001b[0m\u001b[1;33m\u001b[0m\u001b[1;33m\u001b[0m\u001b[0m\n\u001b[0;32m      2\u001b[0m \u001b[1;32mfrom\u001b[0m \u001b[0msklearn\u001b[0m\u001b[1;33m.\u001b[0m\u001b[0mmodel_selection\u001b[0m \u001b[1;32mimport\u001b[0m \u001b[0mtrain_test_split\u001b[0m\u001b[1;33m\u001b[0m\u001b[1;33m\u001b[0m\u001b[0m\n\u001b[1;32m----> 3\u001b[1;33m \u001b[0mX_train\u001b[0m\u001b[1;33m,\u001b[0m \u001b[0mX_test\u001b[0m\u001b[1;33m,\u001b[0m \u001b[0my_train\u001b[0m\u001b[1;33m,\u001b[0m \u001b[0my_test\u001b[0m \u001b[1;33m=\u001b[0m \u001b[0mtrain_test_split\u001b[0m\u001b[1;33m(\u001b[0m\u001b[0mprincipalDf3\u001b[0m\u001b[1;33m,\u001b[0m \u001b[0my\u001b[0m\u001b[1;33m,\u001b[0m \u001b[0mtest_size\u001b[0m\u001b[1;33m=\u001b[0m\u001b[1;36m0.2\u001b[0m\u001b[1;33m)\u001b[0m\u001b[1;33m\u001b[0m\u001b[1;33m\u001b[0m\u001b[0m\n\u001b[0m\u001b[0;32m      4\u001b[0m \u001b[1;32mfrom\u001b[0m \u001b[0msklearn\u001b[0m \u001b[1;32mimport\u001b[0m \u001b[0mmetrics\u001b[0m\u001b[1;33m\u001b[0m\u001b[1;33m\u001b[0m\u001b[0m\n\u001b[0;32m      5\u001b[0m \u001b[1;32mfor\u001b[0m \u001b[0mi\u001b[0m \u001b[1;32min\u001b[0m \u001b[0mclassifiers\u001b[0m\u001b[1;33m:\u001b[0m\u001b[1;33m\u001b[0m\u001b[1;33m\u001b[0m\u001b[0m\n",
      "\u001b[1;32m~\\Anaconda3\\lib\\site-packages\\sklearn\\model_selection\\_split.py\u001b[0m in \u001b[0;36mtrain_test_split\u001b[1;34m(*arrays, **options)\u001b[0m\n\u001b[0;32m   2182\u001b[0m         \u001b[0mtest_size\u001b[0m \u001b[1;33m=\u001b[0m \u001b[1;36m0.25\u001b[0m\u001b[1;33m\u001b[0m\u001b[1;33m\u001b[0m\u001b[0m\n\u001b[0;32m   2183\u001b[0m \u001b[1;33m\u001b[0m\u001b[0m\n\u001b[1;32m-> 2184\u001b[1;33m     \u001b[0marrays\u001b[0m \u001b[1;33m=\u001b[0m \u001b[0mindexable\u001b[0m\u001b[1;33m(\u001b[0m\u001b[1;33m*\u001b[0m\u001b[0marrays\u001b[0m\u001b[1;33m)\u001b[0m\u001b[1;33m\u001b[0m\u001b[1;33m\u001b[0m\u001b[0m\n\u001b[0m\u001b[0;32m   2185\u001b[0m \u001b[1;33m\u001b[0m\u001b[0m\n\u001b[0;32m   2186\u001b[0m     \u001b[1;32mif\u001b[0m \u001b[0mshuffle\u001b[0m \u001b[1;32mis\u001b[0m \u001b[1;32mFalse\u001b[0m\u001b[1;33m:\u001b[0m\u001b[1;33m\u001b[0m\u001b[1;33m\u001b[0m\u001b[0m\n",
      "\u001b[1;32m~\\Anaconda3\\lib\\site-packages\\sklearn\\utils\\validation.py\u001b[0m in \u001b[0;36mindexable\u001b[1;34m(*iterables)\u001b[0m\n\u001b[0;32m    258\u001b[0m         \u001b[1;32melse\u001b[0m\u001b[1;33m:\u001b[0m\u001b[1;33m\u001b[0m\u001b[1;33m\u001b[0m\u001b[0m\n\u001b[0;32m    259\u001b[0m             \u001b[0mresult\u001b[0m\u001b[1;33m.\u001b[0m\u001b[0mappend\u001b[0m\u001b[1;33m(\u001b[0m\u001b[0mnp\u001b[0m\u001b[1;33m.\u001b[0m\u001b[0marray\u001b[0m\u001b[1;33m(\u001b[0m\u001b[0mX\u001b[0m\u001b[1;33m)\u001b[0m\u001b[1;33m)\u001b[0m\u001b[1;33m\u001b[0m\u001b[1;33m\u001b[0m\u001b[0m\n\u001b[1;32m--> 260\u001b[1;33m     \u001b[0mcheck_consistent_length\u001b[0m\u001b[1;33m(\u001b[0m\u001b[1;33m*\u001b[0m\u001b[0mresult\u001b[0m\u001b[1;33m)\u001b[0m\u001b[1;33m\u001b[0m\u001b[1;33m\u001b[0m\u001b[0m\n\u001b[0m\u001b[0;32m    261\u001b[0m     \u001b[1;32mreturn\u001b[0m \u001b[0mresult\u001b[0m\u001b[1;33m\u001b[0m\u001b[1;33m\u001b[0m\u001b[0m\n\u001b[0;32m    262\u001b[0m \u001b[1;33m\u001b[0m\u001b[0m\n",
      "\u001b[1;32m~\\Anaconda3\\lib\\site-packages\\sklearn\\utils\\validation.py\u001b[0m in \u001b[0;36mcheck_consistent_length\u001b[1;34m(*arrays)\u001b[0m\n\u001b[0;32m    233\u001b[0m     \u001b[1;32mif\u001b[0m \u001b[0mlen\u001b[0m\u001b[1;33m(\u001b[0m\u001b[0muniques\u001b[0m\u001b[1;33m)\u001b[0m \u001b[1;33m>\u001b[0m \u001b[1;36m1\u001b[0m\u001b[1;33m:\u001b[0m\u001b[1;33m\u001b[0m\u001b[1;33m\u001b[0m\u001b[0m\n\u001b[0;32m    234\u001b[0m         raise ValueError(\"Found input variables with inconsistent numbers of\"\n\u001b[1;32m--> 235\u001b[1;33m                          \" samples: %r\" % [int(l) for l in lengths])\n\u001b[0m\u001b[0;32m    236\u001b[0m \u001b[1;33m\u001b[0m\u001b[0m\n\u001b[0;32m    237\u001b[0m \u001b[1;33m\u001b[0m\u001b[0m\n",
      "\u001b[1;31mValueError\u001b[0m: Found input variables with inconsistent numbers of samples: [303, 20]"
     ]
    }
   ],
   "source": [
    "# 3 component modeled\n",
    "from sklearn.model_selection import train_test_split\n",
    "X_train, X_test, y_train, y_test = train_test_split(principalDf3, y, test_size=0.2) \n",
    "from sklearn import metrics\n",
    "for i in classifiers:\n",
    "    i.fit(X_train, y_train)\n",
    "    y_pred= i.predict(X_test)\n",
    "    print(i)\n",
    "    print('Model score: ', i.score(X_train, y_train))\n",
    "    print(\"Accuracy:  \", metrics.accuracy_score(y_test, y_pred))\n",
    "    cm = metrics.confusion_matrix(y_test, y_pred)\n",
    "    print(\"Confusion Matrix: \")\n",
    "    print(cm)\n",
    "    print()"
   ]
  },
  {
   "cell_type": "code",
   "execution_count": 28,
   "metadata": {},
   "outputs": [],
   "source": [
    "# Nothing great with 3 components\n",
    "# FIND COMPONENTS THAT EXPLAIN 95% OF VARIANCE AND THEN SCOUT MODELS"
   ]
  },
  {
   "cell_type": "code",
   "execution_count": 29,
   "metadata": {},
   "outputs": [],
   "source": [
    "pca = PCA(.95)"
   ]
  },
  {
   "cell_type": "code",
   "execution_count": 30,
   "metadata": {},
   "outputs": [],
   "source": [
    "new_x = pca.fit_transform(x_d)"
   ]
  },
  {
   "cell_type": "code",
   "execution_count": 31,
   "metadata": {},
   "outputs": [
    {
     "data": {
      "text/plain": [
       "12"
      ]
     },
     "execution_count": 31,
     "metadata": {},
     "output_type": "execute_result"
    }
   ],
   "source": [
    "pca.n_components_ "
   ]
  },
  {
   "cell_type": "code",
   "execution_count": 32,
   "metadata": {},
   "outputs": [],
   "source": [
    "#Based on 2 component visualization - there is obviously 2 clusters but with significant overlap\n",
    "#the 2 component and 3 component analysis preserved less than 50% \n",
    "#It takes 12 components to preserve 95% of the variance...\n",
    "#Because of this and because we are working with a small data set, while I will scout models with PCA(95% var) dataset, \n",
    "#I will likely optimize models with dataset from Data transformation and scouting NB\n",
    "#... I gut is that PCA data reduction isn't real helpful in this case... we shall see...."
   ]
  },
  {
   "cell_type": "code",
   "execution_count": null,
   "metadata": {},
   "outputs": [],
   "source": []
  },
  {
   "cell_type": "code",
   "execution_count": 33,
   "metadata": {},
   "outputs": [],
   "source": [
    "#PREPARING PC DATAFRAME, TEST SET HOLDOUT, AND DATA SET FOR SCOUTING MODELS AND OPTIMIZING\n",
    "pc12df = pd.DataFrame(data = new_x, columns = ['PC1', 'PC2', 'PC3', 'PC4', 'PC5', 'PC6','PC7', 'PC8', 'PC9','PC10', 'PC11', 'PC12'])\n",
    "pc12df.head()\n",
    "\n",
    "FinalDF = pd.concat([pc12df, heartdata[['target']]], axis = 1)\n",
    "FinalDF.head()\n",
    "\n",
    "testDFholdoutDF = FinalDF.tail(20)\n",
    "X_testHO = testDFholdoutDF.drop('target', axis =1)\n",
    "y_testHO = testDFholdoutDF['target']\n",
    "\n",
    "train_val_DF = FinalDF.head(283)\n",
    "X_tv = train_val_DF.drop('target', axis=1)\n",
    "y_tv = train_val_DF['target']"
   ]
  },
  {
   "cell_type": "code",
   "execution_count": 34,
   "metadata": {},
   "outputs": [
    {
     "name": "stdout",
     "output_type": "stream",
     "text": [
      "RandomForestClassifier(bootstrap=True, class_weight=None, criterion='gini',\n",
      "            max_depth=None, max_features='auto', max_leaf_nodes=None,\n",
      "            min_impurity_decrease=0.0, min_impurity_split=None,\n",
      "            min_samples_leaf=1, min_samples_split=2,\n",
      "            min_weight_fraction_leaf=0.0, n_estimators=10, n_jobs=None,\n",
      "            oob_score=False, random_state=None, verbose=0,\n",
      "            warm_start=False)\n",
      "Model score:  0.9867256637168141\n",
      "Accuracy:   0.7017543859649122\n",
      "Confusion Matrix: \n",
      "[[16  8]\n",
      " [ 9 24]]\n",
      "\n",
      "SVC(C=1.0, cache_size=200, class_weight=None, coef0=0.0,\n",
      "  decision_function_shape='ovr', degree=3, gamma='auto_deprecated',\n",
      "  kernel='rbf', max_iter=-1, probability=False, random_state=None,\n",
      "  shrinking=True, tol=0.001, verbose=False)\n",
      "Model score:  0.9380530973451328\n",
      "Accuracy:   0.7368421052631579\n",
      "Confusion Matrix: \n",
      "[[13 11]\n",
      " [ 4 29]]\n",
      "\n",
      "DecisionTreeClassifier(class_weight=None, criterion='gini', max_depth=None,\n",
      "            max_features=None, max_leaf_nodes=None,\n",
      "            min_impurity_decrease=0.0, min_impurity_split=None,\n",
      "            min_samples_leaf=1, min_samples_split=2,\n",
      "            min_weight_fraction_leaf=0.0, presort=False, random_state=None,\n",
      "            splitter='best')\n",
      "Model score:  1.0\n",
      "Accuracy:   0.7368421052631579\n",
      "Confusion Matrix: \n",
      "[[16  8]\n",
      " [ 7 26]]\n",
      "\n",
      "KNeighborsClassifier(algorithm='auto', leaf_size=30, metric='minkowski',\n",
      "           metric_params=None, n_jobs=None, n_neighbors=3, p=2,\n",
      "           weights='uniform')\n",
      "Model score:  0.911504424778761\n",
      "Accuracy:   0.6666666666666666\n",
      "Confusion Matrix: \n",
      "[[13 11]\n",
      " [ 8 25]]\n",
      "\n",
      "LogisticRegression(C=1.0, class_weight=None, dual=False, fit_intercept=True,\n",
      "          intercept_scaling=1, max_iter=100, multi_class='warn',\n",
      "          n_jobs=None, penalty='l2', random_state=None, solver='warn',\n",
      "          tol=0.0001, verbose=0, warm_start=False)\n",
      "Model score:  0.8893805309734514\n",
      "Accuracy:   0.7192982456140351\n",
      "Confusion Matrix: \n",
      "[[13 11]\n",
      " [ 5 28]]\n",
      "\n",
      "GradientBoostingClassifier(criterion='friedman_mse', init=None,\n",
      "              learning_rate=0.1, loss='deviance', max_depth=3,\n",
      "              max_features=None, max_leaf_nodes=None,\n",
      "              min_impurity_decrease=0.0, min_impurity_split=None,\n",
      "              min_samples_leaf=1, min_samples_split=2,\n",
      "              min_weight_fraction_leaf=0.0, n_estimators=100,\n",
      "              n_iter_no_change=None, presort='auto', random_state=None,\n",
      "              subsample=1.0, tol=0.0001, validation_fraction=0.1,\n",
      "              verbose=0, warm_start=False)\n",
      "Model score:  1.0\n",
      "Accuracy:   0.7192982456140351\n",
      "Confusion Matrix: \n",
      "[[15  9]\n",
      " [ 7 26]]\n",
      "\n"
     ]
    },
    {
     "name": "stderr",
     "output_type": "stream",
     "text": [
      "C:\\Users\\kathy\\Anaconda3\\lib\\site-packages\\sklearn\\svm\\base.py:196: FutureWarning: The default value of gamma will change from 'auto' to 'scale' in version 0.22 to account better for unscaled features. Set gamma explicitly to 'auto' or 'scale' to avoid this warning.\n",
      "  \"avoid this warning.\", FutureWarning)\n",
      "C:\\Users\\kathy\\Anaconda3\\lib\\site-packages\\sklearn\\linear_model\\logistic.py:433: FutureWarning: Default solver will be changed to 'lbfgs' in 0.22. Specify a solver to silence this warning.\n",
      "  FutureWarning)\n"
     ]
    },
    {
     "name": "stdout",
     "output_type": "stream",
     "text": [
      "AdaBoostClassifier(algorithm='SAMME.R', base_estimator=None,\n",
      "          learning_rate=1.0, n_estimators=50, random_state=None)\n",
      "Model score:  1.0\n",
      "Accuracy:   0.6666666666666666\n",
      "Confusion Matrix: \n",
      "[[13 11]\n",
      " [ 8 25]]\n",
      "\n"
     ]
    }
   ],
   "source": [
    "# 12 components - model scouting \n",
    "Xtrain, Xval, ytrain, yval = train_test_split(X_tv, y_tv, test_size=0.2)\n",
    "for i in classifiers:\n",
    "    i.fit(Xtrain, ytrain)\n",
    "    ypred= i.predict(Xval)\n",
    "    print((i))\n",
    "    print('Model score: ', i.score(Xtrain, ytrain))\n",
    "    print(\"Accuracy:  \", metrics.accuracy_score(yval, ypred))\n",
    "    cm = metrics.confusion_matrix(yval, ypred)\n",
    "    print(\"Confusion Matrix: \")\n",
    "    print(cm)\n",
    "    print()"
   ]
  },
  {
   "cell_type": "code",
   "execution_count": 35,
   "metadata": {},
   "outputs": [],
   "source": [
    "#Well - this worked pretty well!!!! Even overfit RF, DT, etc have OK scores \n",
    "#will work on optimize a select group for low false negatives\n",
    "#CROSS-VALIDATION BELOW\n"
   ]
  },
  {
   "cell_type": "code",
   "execution_count": 36,
   "metadata": {},
   "outputs": [
    {
     "name": "stdout",
     "output_type": "stream",
     "text": [
      "RandomForestClassifier(bootstrap=True, class_weight=None, criterion='gini',\n",
      "            max_depth=None, max_features='auto', max_leaf_nodes=None,\n",
      "            min_impurity_decrease=0.0, min_impurity_split=None,\n",
      "            min_samples_leaf=1, min_samples_split=2,\n",
      "            min_weight_fraction_leaf=0.0, n_estimators=10, n_jobs=None,\n",
      "            oob_score=False, random_state=None, verbose=0,\n",
      "            warm_start=False)\n",
      "Accuracy: 0.78 (+/- 0.09)\n",
      "\n",
      "SVC(C=1.0, cache_size=200, class_weight=None, coef0=0.0,\n",
      "  decision_function_shape='ovr', degree=3, gamma='auto_deprecated',\n",
      "  kernel='rbf', max_iter=-1, probability=False, random_state=None,\n",
      "  shrinking=True, tol=0.001, verbose=False)\n",
      "Accuracy: 0.83 (+/- 0.10)\n",
      "\n",
      "DecisionTreeClassifier(class_weight=None, criterion='gini', max_depth=None,\n",
      "            max_features=None, max_leaf_nodes=None,\n",
      "            min_impurity_decrease=0.0, min_impurity_split=None,\n",
      "            min_samples_leaf=1, min_samples_split=2,\n",
      "            min_weight_fraction_leaf=0.0, presort=False, random_state=None,\n",
      "            splitter='best')\n",
      "Accuracy: 0.73 (+/- 0.10)\n",
      "\n",
      "KNeighborsClassifier(algorithm='auto', leaf_size=30, metric='minkowski',\n",
      "           metric_params=None, n_jobs=None, n_neighbors=3, p=2,\n",
      "           weights='uniform')\n",
      "Accuracy: 0.82 (+/- 0.04)\n",
      "\n",
      "LogisticRegression(C=1.0, class_weight=None, dual=False, fit_intercept=True,\n",
      "          intercept_scaling=1, max_iter=100, multi_class='warn',\n",
      "          n_jobs=None, penalty='l2', random_state=None, solver='warn',\n",
      "          tol=0.0001, verbose=0, warm_start=False)\n",
      "Accuracy: 0.85 (+/- 0.06)\n",
      "\n"
     ]
    },
    {
     "name": "stderr",
     "output_type": "stream",
     "text": [
      "C:\\Users\\kathy\\Anaconda3\\lib\\site-packages\\sklearn\\svm\\base.py:196: FutureWarning: The default value of gamma will change from 'auto' to 'scale' in version 0.22 to account better for unscaled features. Set gamma explicitly to 'auto' or 'scale' to avoid this warning.\n",
      "  \"avoid this warning.\", FutureWarning)\n",
      "C:\\Users\\kathy\\Anaconda3\\lib\\site-packages\\sklearn\\svm\\base.py:196: FutureWarning: The default value of gamma will change from 'auto' to 'scale' in version 0.22 to account better for unscaled features. Set gamma explicitly to 'auto' or 'scale' to avoid this warning.\n",
      "  \"avoid this warning.\", FutureWarning)\n",
      "C:\\Users\\kathy\\Anaconda3\\lib\\site-packages\\sklearn\\svm\\base.py:196: FutureWarning: The default value of gamma will change from 'auto' to 'scale' in version 0.22 to account better for unscaled features. Set gamma explicitly to 'auto' or 'scale' to avoid this warning.\n",
      "  \"avoid this warning.\", FutureWarning)\n",
      "C:\\Users\\kathy\\Anaconda3\\lib\\site-packages\\sklearn\\svm\\base.py:196: FutureWarning: The default value of gamma will change from 'auto' to 'scale' in version 0.22 to account better for unscaled features. Set gamma explicitly to 'auto' or 'scale' to avoid this warning.\n",
      "  \"avoid this warning.\", FutureWarning)\n",
      "C:\\Users\\kathy\\Anaconda3\\lib\\site-packages\\sklearn\\svm\\base.py:196: FutureWarning: The default value of gamma will change from 'auto' to 'scale' in version 0.22 to account better for unscaled features. Set gamma explicitly to 'auto' or 'scale' to avoid this warning.\n",
      "  \"avoid this warning.\", FutureWarning)\n",
      "C:\\Users\\kathy\\Anaconda3\\lib\\site-packages\\sklearn\\linear_model\\logistic.py:433: FutureWarning: Default solver will be changed to 'lbfgs' in 0.22. Specify a solver to silence this warning.\n",
      "  FutureWarning)\n",
      "C:\\Users\\kathy\\Anaconda3\\lib\\site-packages\\sklearn\\linear_model\\logistic.py:433: FutureWarning: Default solver will be changed to 'lbfgs' in 0.22. Specify a solver to silence this warning.\n",
      "  FutureWarning)\n",
      "C:\\Users\\kathy\\Anaconda3\\lib\\site-packages\\sklearn\\linear_model\\logistic.py:433: FutureWarning: Default solver will be changed to 'lbfgs' in 0.22. Specify a solver to silence this warning.\n",
      "  FutureWarning)\n",
      "C:\\Users\\kathy\\Anaconda3\\lib\\site-packages\\sklearn\\linear_model\\logistic.py:433: FutureWarning: Default solver will be changed to 'lbfgs' in 0.22. Specify a solver to silence this warning.\n",
      "  FutureWarning)\n",
      "C:\\Users\\kathy\\Anaconda3\\lib\\site-packages\\sklearn\\linear_model\\logistic.py:433: FutureWarning: Default solver will be changed to 'lbfgs' in 0.22. Specify a solver to silence this warning.\n",
      "  FutureWarning)\n"
     ]
    },
    {
     "name": "stdout",
     "output_type": "stream",
     "text": [
      "GradientBoostingClassifier(criterion='friedman_mse', init=None,\n",
      "              learning_rate=0.1, loss='deviance', max_depth=3,\n",
      "              max_features=None, max_leaf_nodes=None,\n",
      "              min_impurity_decrease=0.0, min_impurity_split=None,\n",
      "              min_samples_leaf=1, min_samples_split=2,\n",
      "              min_weight_fraction_leaf=0.0, n_estimators=100,\n",
      "              n_iter_no_change=None, presort='auto', random_state=None,\n",
      "              subsample=1.0, tol=0.0001, validation_fraction=0.1,\n",
      "              verbose=0, warm_start=False)\n",
      "Accuracy: 0.85 (+/- 0.06)\n",
      "\n",
      "AdaBoostClassifier(algorithm='SAMME.R', base_estimator=None,\n",
      "          learning_rate=1.0, n_estimators=50, random_state=None)\n",
      "Accuracy: 0.81 (+/- 0.04)\n",
      "\n"
     ]
    }
   ],
   "source": [
    "from sklearn.model_selection import cross_val_score\n",
    "from sklearn.model_selection import StratifiedKFold\n",
    "for i in classifiers:\n",
    "    scores = cross_val_score(i, Xtrain, ytrain, cv=5)\n",
    "    scores\n",
    "    print(i)\n",
    "    print(\"Accuracy: %0.2f (+/- %0.2f)\" % (scores.mean(), scores.std() * 2))\n",
    "    print()"
   ]
  },
  {
   "cell_type": "code",
   "execution_count": 37,
   "metadata": {},
   "outputs": [],
   "source": [
    "#WILL \"TUNE\" LOGISTIC REGRESSION AND GRADIENTBOOST  dual=[True,False]"
   ]
  },
  {
   "cell_type": "code",
   "execution_count": 38,
   "metadata": {},
   "outputs": [
    {
     "name": "stdout",
     "output_type": "stream",
     "text": [
      "Best: 0.862832 using {'C': 0.1, 'max_iter': 200, 'penalty': 'l2', 'solver': 'warn'}\n"
     ]
    },
    {
     "name": "stderr",
     "output_type": "stream",
     "text": [
      "C:\\Users\\kathy\\Anaconda3\\lib\\site-packages\\sklearn\\model_selection\\_search.py:841: DeprecationWarning: The default of the `iid` parameter will change from True to False in version 0.22 and will be removed in 0.24. This will change numeric results when test-set sizes are unequal.\n",
      "  DeprecationWarning)\n",
      "C:\\Users\\kathy\\Anaconda3\\lib\\site-packages\\sklearn\\linear_model\\logistic.py:433: FutureWarning: Default solver will be changed to 'lbfgs' in 0.22. Specify a solver to silence this warning.\n",
      "  FutureWarning)\n"
     ]
    }
   ],
   "source": [
    "#Tuning\n",
    "from sklearn.model_selection import GridSearchCV\n",
    "from sklearn.model_selection import RandomizedSearchCV\n",
    "\n",
    "lr = LogisticRegression()\n",
    "\n",
    "max_iter=[200, 300, 500, 1000]\n",
    "C = [0.01, 0.05, 0.1, 0.5, 1, 10]\n",
    "solver = ['warn', 'liblinear']\n",
    "penalty = ['l1', 'l2']\n",
    "param_grid = dict(max_iter=max_iter, C=C, solver=solver, penalty = penalty)\n",
    "grid = GridSearchCV(estimator=lr, param_grid=param_grid, cv = 5, n_jobs=-1)\n",
    "\n",
    "\n",
    "grid_result = grid.fit(Xtrain, ytrain)\n",
    "# Summarize results\n",
    "print(\"Best: %f using %s\" % (grid_result.best_score_, grid_result.best_params_))"
   ]
  },
  {
   "cell_type": "code",
   "execution_count": 119,
   "metadata": {},
   "outputs": [
    {
     "name": "stdout",
     "output_type": "stream",
     "text": [
      "Best: 0.871681 using {'C': 0.05, 'max_iter': 200, 'solver': 'lbfgs'}\n"
     ]
    },
    {
     "name": "stderr",
     "output_type": "stream",
     "text": [
      "C:\\Users\\kathy\\Anaconda3\\lib\\site-packages\\sklearn\\model_selection\\_search.py:841: DeprecationWarning: The default of the `iid` parameter will change from True to False in version 0.22 and will be removed in 0.24. This will change numeric results when test-set sizes are unequal.\n",
      "  DeprecationWarning)\n"
     ]
    }
   ],
   "source": [
    "from sklearn.model_selection import GridSearchCV\n",
    "from sklearn.model_selection import RandomizedSearchCV\n",
    "\n",
    "lr = LogisticRegression()\n",
    "\n",
    "max_iter=[200, 300, 500, 1000]\n",
    "C = [0.01, 0.05, 0.1, 0.5, 1, 10]\n",
    "solver = ['warn', 'liblinear', 'lbfgs']\n",
    "param_grid = dict(max_iter=max_iter, C=C, solver=solver)\n",
    "grid = GridSearchCV(estimator=lr, param_grid=param_grid, cv = 5, n_jobs=-1)\n",
    "\n",
    "\n",
    "grid_result = grid.fit(Xtrain, ytrain)\n",
    "# Summarize results\n",
    "print(\"Best: %f using %s\" % (grid_result.best_score_, grid_result.best_params_))"
   ]
  },
  {
   "cell_type": "code",
   "execution_count": 166,
   "metadata": {},
   "outputs": [
    {
     "name": "stdout",
     "output_type": "stream",
     "text": [
      "Cross Validation of partially optimized Logistic regression\n",
      "Accuracy: 0.86 (+/- 0.05)\n",
      "LogisticRegression(C=0.05, class_weight=None, dual=False, fit_intercept=True,\n",
      "          intercept_scaling=1, max_iter=200, multi_class='warn',\n",
      "          n_jobs=None, penalty='l2', random_state=None, solver='lbfgs',\n",
      "          tol=0.0001, verbose=0, warm_start=False)\n"
     ]
    }
   ],
   "source": [
    "#Will also cross-validation with Optimized parameters\n",
    "Optlr = LogisticRegression(solver = 'lbfgs', penalty = 'l2', max_iter = 200, C =0.05)\n",
    "from sklearn.model_selection import cross_val_score\n",
    "scores = cross_val_score(Optlr, X_tv, y_tv, cv=5)\n",
    "print('Cross Validation of partially optimized Logistic regression')\n",
    "print(\"Accuracy: %0.2f (+/- %0.2f)\" % (scores.mean(), scores.std() * 2))\n",
    "print(Optlr)"
   ]
  },
  {
   "cell_type": "code",
   "execution_count": 135,
   "metadata": {},
   "outputs": [
    {
     "name": "stdout",
     "output_type": "stream",
     "text": [
      "Prediction with a validation set using OptLR\n",
      "Model score:  0.8849557522123894\n",
      "Accuracy:   0.7368421052631579\n",
      "Confusion Matrix: \n"
     ]
    },
    {
     "data": {
      "text/plain": [
       "Text(0.5, 8.5, 'Predicted label')"
      ]
     },
     "execution_count": 135,
     "metadata": {},
     "output_type": "execute_result"
    },
    {
     "data": {
      "image/png": "[encoded data removed]",
      "text/plain": [
       "<Figure size 432x288 with 2 Axes>"
      ]
     },
     "metadata": {},
     "output_type": "display_data"
    }
   ],
   "source": [
    "#Save new LR parameters, fit to training set, and run with validation set\n",
    "Optlr = LogisticRegression(solver = 'lbfgs', penalty = 'l2', max_iter = 200, C =0.05)\n",
    "Optlr.fit(Xtrain, ytrain)\n",
    "ypred= Optlr.predict(Xval)\n",
    "print('Prediction with a validation set using OptLR')\n",
    "print('Model score: ', Optlr.score(Xtrain, ytrain))\n",
    "print('Accuracy:  ', metrics.accuracy_score(yval, ypred))\n",
    "cm = metrics.confusion_matrix(yval, ypred)\n",
    "print(\"Confusion Matrix: \")\n",
    "sns.set(font_scale=1.4)\n",
    "sns.heatmap(cm, annot=True,annot_kws={\"size\": 16}, cmap='RdYlGn')\n",
    "plt.ylabel('True label') \n",
    "plt.xlabel('Predicted label')"
   ]
  },
  {
   "cell_type": "code",
   "execution_count": null,
   "metadata": {},
   "outputs": [],
   "source": [
    "#Although the accuracy isn't great - only 3 out of 33 patients with heart disease were not recognized as having the disease,\n",
    "#Unfortunately (main reason for low accuracy) half of the patients without heart would have been pegged as having it... \n",
    "#nonetheless..cross-validation suggests this is a good model  so I will continue with lr - retrain model with training and validation data and see how the model does\n",
    "#with unseen data"
   ]
  },
  {
   "cell_type": "code",
   "execution_count": 143,
   "metadata": {},
   "outputs": [],
   "source": [
    "from sklearn.metrics import roc_curve, roc_auc_score\n",
    "#Compute false and true positive rates\n",
    "fpr, tpr,_=roc_curve(Optlr.predict(Xtrain), ytrain, drop_intermediate=False)"
   ]
  },
  {
   "cell_type": "code",
   "execution_count": 144,
   "metadata": {},
   "outputs": [
    {
     "data": {
      "image/png": "[encoded data removed]",
      "text/plain": [
       "<Figure size 432x288 with 1 Axes>"
      ]
     },
     "metadata": {},
     "output_type": "display_data"
    }
   ],
   "source": [
    "plt.figure()\n",
    "#ROC\n",
    "plt.plot(fpr, tpr, color='red', lw=2, label='ROC curve')\n",
    "plt.plot([0, 1], [0, 1], color='blue', lw=2, linestyle='--')\n",
    "plt.xlabel('FPR')\n",
    "plt.ylabel('TPR')\n",
    "plt.title('ROC curve')\n",
    "plt.show()"
   ]
  },
  {
   "cell_type": "code",
   "execution_count": 145,
   "metadata": {},
   "outputs": [
    {
     "name": "stdout",
     "output_type": "stream",
     "text": [
      "ROCAUC score: 0.8876753826530612\n"
     ]
    }
   ],
   "source": [
    "print('ROCAUC score:', roc_auc_score(Optlr.predict(Xtrain), ytrain))"
   ]
  },
  {
   "cell_type": "code",
   "execution_count": 146,
   "metadata": {},
   "outputs": [
    {
     "name": "stdout",
     "output_type": "stream",
     "text": [
      "              precision    recall  f1-score   support\n",
      "\n",
      "           0       0.80      0.50      0.62        24\n",
      "           1       0.71      0.91      0.80        33\n",
      "\n",
      "   micro avg       0.74      0.74      0.74        57\n",
      "   macro avg       0.76      0.70      0.71        57\n",
      "weighted avg       0.75      0.74      0.72        57\n",
      "\n"
     ]
    }
   ],
   "source": [
    "from sklearn.metrics import classification_report\n",
    "ypred = Optlr.predict(Xval)\n",
    "print(classification_report(yval, ypred))"
   ]
  },
  {
   "cell_type": "code",
   "execution_count": 147,
   "metadata": {},
   "outputs": [
    {
     "name": "stdout",
     "output_type": "stream",
     "text": [
      "(226, 2)\n"
     ]
    },
    {
     "data": {
      "image/png": "[encoded data removed]",
      "text/plain": [
       "<Figure size 576x576 with 1 Axes>"
      ]
     },
     "metadata": {},
     "output_type": "display_data"
    },
    {
     "name": "stdout",
     "output_type": "stream",
     "text": [
      "Red = Patients with known heart disease (Label = 1)\n",
      "Green = Patients with known to disease free (Label = 0)\n",
      "Model score:  0.8849557522123894\n"
     ]
    }
   ],
   "source": [
    "#plot Decision boundary based on training data\n",
    "yseries = pd.Series(ytrain)\n",
    "y4color = np.array(yseries)\n",
    "\n",
    "probs = Optlr.predict_proba(Xtrain)\n",
    "print(probs.shape)\n",
    "probone = probs[:, 1]\n",
    "\n",
    "x = len(probone)\n",
    "xx = [i for i in range(0, x)]\n",
    "\n",
    "import matplotlib\n",
    "\n",
    "y = probone\n",
    "label = y4color\n",
    "colors = ['green','red']\n",
    "fig = plt.figure(figsize=(8,8))\n",
    "plt.scatter(xx, y, c=label, cmap=matplotlib.colors.ListedColormap(colors), label = 'red = True 1')\n",
    "plt.legend()\n",
    "plt.plot([0, x], [0.5, 0.5], color='blue', lw=2, linestyle='--')\n",
    "\n",
    "loc = np.arange(0,max(label),max(label)/float(len(colors)))\n",
    "plt.xlabel('n')\n",
    "plt.ylabel('Probabiltiy of Heart Disease (1) - Predicted')\n",
    "plt.title('Decision Boundary @ 0.5 (blue line) - Training Data')\n",
    "plt.legend()\n",
    "plt.show()\n",
    "print('Red = Patients with known heart disease (Label = 1)')\n",
    "print('Green = Patients with known to disease free (Label = 0)')\n",
    "print('Model score: ', Optlr.score(Xtrain, ytrain))"
   ]
  },
  {
   "cell_type": "code",
   "execution_count": 148,
   "metadata": {},
   "outputs": [
    {
     "name": "stdout",
     "output_type": "stream",
     "text": [
      "(226, 2)\n"
     ]
    },
    {
     "data": {
      "image/png": "[encoded data removed]",
      "text/plain": [
       "<Figure size 576x576 with 1 Axes>"
      ]
     },
     "metadata": {},
     "output_type": "display_data"
    },
    {
     "name": "stdout",
     "output_type": "stream",
     "text": [
      "Red = Patients with known heart disease (Label = 1)\n",
      "Green = Patients with known to disease free (Label = 0)\n"
     ]
    }
   ],
   "source": [
    "#plot Decision boundary based on training data\n",
    "yseries = pd.Series(ytrain)\n",
    "truey4color = np.array(yseries)\n",
    "\n",
    "probs = Optlr.predict_proba(Xtrain)\n",
    "print(probs.shape)\n",
    "probone = probs[:, 1]\n",
    "\n",
    "x = len(probone)\n",
    "xx = [i for i in range(0, x)]\n",
    "\n",
    "y = probone\n",
    "label = truey4color\n",
    "colors = ['green','red']\n",
    "fig = plt.figure(figsize=(8,8))\n",
    "plt.scatter(xx, y, c=label, cmap=matplotlib.colors.ListedColormap(colors), label = 'red = True 1')\n",
    "plt.plot([0, x], [0.4, 0.4], color='blue', lw=2, linestyle='--')\n",
    "\n",
    "loc = np.arange(0,max(label),max(label)/float(len(colors)))\n",
    "plt.xlabel('n')\n",
    "plt.ylabel('Probabiltiy of Heart Disease (1) - Predicted')\n",
    "plt.title('Decision Boundary @ 0.4 (blue line)')\n",
    "plt.legend()\n",
    "plt.show()\n",
    "print('Red = Patients with known heart disease (Label = 1)')\n",
    "print('Green = Patients with known to disease free (Label = 0)')"
   ]
  },
  {
   "cell_type": "code",
   "execution_count": null,
   "metadata": {},
   "outputs": [],
   "source": [
    "#lowing theshold looks like it the increase in false positive would out weigh false negative in this model so won't do"
   ]
  },
  {
   "cell_type": "code",
   "execution_count": 156,
   "metadata": {},
   "outputs": [
    {
     "name": "stderr",
     "output_type": "stream",
     "text": [
      "No handles with labels found to put in legend.\n"
     ]
    },
    {
     "name": "stdout",
     "output_type": "stream",
     "text": [
      "(57, 2)\n"
     ]
    },
    {
     "data": {
      "image/png": "[encoded data removed]",
      "text/plain": [
       "<Figure size 432x432 with 1 Axes>"
      ]
     },
     "metadata": {},
     "output_type": "display_data"
    },
    {
     "name": "stdout",
     "output_type": "stream",
     "text": [
      "Red = Patients with known heart disease (Label = 1)\n",
      "Green = Patients with known to disease free (Label = 0)\n"
     ]
    }
   ],
   "source": [
    "#plot Decision boundary based on validation data\n",
    "yseries = pd.Series(yval)\n",
    "y4color = np.array(yseries)\n",
    "\n",
    "probs = Optlr.predict_proba(Xval)\n",
    "print(probs.shape)\n",
    "probone = probs[:,1 ]\n",
    "\n",
    "x = len(probone)\n",
    "xx = [i for i in range(0, x)]\n",
    "\n",
    "import matplotlib\n",
    "\n",
    "y = probone\n",
    "label = y4color\n",
    "colors = ['green','red']\n",
    "fig = plt.figure(figsize=(6,6))\n",
    "plt.scatter(xx, y, c=label, cmap=matplotlib.colors.ListedColormap(colors))\n",
    "plt.plot([0, x], [0.5, 0.5], color='blue', lw=2, linestyle='--')\n",
    "\n",
    "loc = np.arange(0,max(label),max(label)/float(len(colors)))\n",
    "plt.xlabel('n')\n",
    "plt.ylabel('Probabiltiy of Heart Disease (1) - Predicted')\n",
    "plt.title('Decision Boundary @ 0.5 (blue line)')\n",
    "plt.legend()\n",
    "plt.show()\n",
    "print('Red = Patients with known heart disease (Label = 1)')\n",
    "print('Green = Patients with known to disease free (Label = 0)')"
   ]
  },
  {
   "cell_type": "code",
   "execution_count": 157,
   "metadata": {},
   "outputs": [
    {
     "name": "stdout",
     "output_type": "stream",
     "text": [
      "Prediction with a validation set using OptLR\n",
      "Model score:  0.8849557522123894\n",
      "Accuracy:   0.85\n",
      "Confusion Matrix: \n"
     ]
    },
    {
     "data": {
      "text/plain": [
       "Text(0.5, 8.5, 'Predicted label')"
      ]
     },
     "execution_count": 157,
     "metadata": {},
     "output_type": "execute_result"
    },
    {
     "data": {
      "image/png": "[encoded data removed]",
      "text/plain": [
       "<Figure size 432x288 with 2 Axes>"
      ]
     },
     "metadata": {},
     "output_type": "display_data"
    }
   ],
   "source": [
    "#see how model trained with only training data do on unseen data, compare to model trained with all training & val data next\n",
    "Optlr = LogisticRegression(solver = 'lbfgs', penalty = 'l2', max_iter = 200, C =0.05)\n",
    "Optlr.fit(Xtrain, ytrain)\n",
    "ypred= Optlr.predict(X_testHO)\n",
    "print('Prediction with a validation set using OptLR')\n",
    "print('Model score: ', Optlr.score(Xtrain, ytrain))\n",
    "print('Accuracy:  ', metrics.accuracy_score(y_testHO, ypred))\n",
    "cm = metrics.confusion_matrix(y_testHO, ypred)\n",
    "print(\"Confusion Matrix: \")\n",
    "sns.set(font_scale=1.4)\n",
    "sns.heatmap(cm, annot=True,annot_kws={\"size\": 16}, cmap='RdYlGn')\n",
    "plt.ylabel('True label') \n",
    "plt.xlabel('Predicted label')"
   ]
  },
  {
   "cell_type": "code",
   "execution_count": 158,
   "metadata": {},
   "outputs": [
    {
     "name": "stdout",
     "output_type": "stream",
     "text": [
      "Prediction with Holdout test set using OptLR\n",
      "Model score:  0.8692579505300353\n",
      "Accuracy:   0.85\n",
      "Confusion Matrix: \n"
     ]
    },
    {
     "data": {
      "text/plain": [
       "Text(0.5, 8.5, 'Predicted label')"
      ]
     },
     "execution_count": 158,
     "metadata": {},
     "output_type": "execute_result"
    },
    {
     "data": {
      "image/png": "[encoded data removed]",
      "text/plain": [
       "<Figure size 432x288 with 2 Axes>"
      ]
     },
     "metadata": {},
     "output_type": "display_data"
    }
   ],
   "source": [
    "#Fit on all but holdout and then test\n",
    "Optlr.fit(X_tv, y_tv)\n",
    "ypred= Optlr.predict(X_testHO)\n",
    "print('Prediction with Holdout test set using OptLR')\n",
    "print('Model score: ', Optlr.score(X_tv, y_tv))\n",
    "print('Accuracy:  ', metrics.accuracy_score(y_testHO, ypred))\n",
    "cm = metrics.confusion_matrix(y_testHO, ypred)\n",
    "print(\"Confusion Matrix: \")\n",
    "sns.set(font_scale=1.4)\n",
    "sns.heatmap(cm, annot=True, annot_kws={\"size\": 16}, cmap='RdYlGn')\n",
    "plt.ylabel('True label') \n",
    "plt.xlabel('Predicted label')"
   ]
  },
  {
   "cell_type": "code",
   "execution_count": 159,
   "metadata": {},
   "outputs": [
    {
     "name": "stderr",
     "output_type": "stream",
     "text": [
      "No handles with labels found to put in legend.\n"
     ]
    },
    {
     "data": {
      "image/png": "[encoded data removed]",
      "text/plain": [
       "<Figure size 576x576 with 1 Axes>"
      ]
     },
     "metadata": {},
     "output_type": "display_data"
    },
    {
     "name": "stdout",
     "output_type": "stream",
     "text": [
      "Red = Patients with known heart disease (Label = 1)\n",
      "Green = Patients with known to disease free (Label = 0)\n"
     ]
    }
   ],
   "source": [
    "#plot decision boundary on unseen data\n",
    "yseries = pd.Series(y_testHO)\n",
    "y4color = np.array(yseries)\n",
    "\n",
    "probs = Optlr.predict_proba(X_testHO)\n",
    "probone = probs[:, 1]\n",
    "\n",
    "x = len(probone)\n",
    "xx = [i for i in range(0, x)]\n",
    "\n",
    "import matplotlib\n",
    "\n",
    "y = probone\n",
    "label = y4color\n",
    "colors = ['green','red']\n",
    "fig = plt.figure(figsize=(8,8))\n",
    "plt.scatter(xx, y, c=label, cmap=matplotlib.colors.ListedColormap(colors))\n",
    "plt.plot([0, x], [0.5, 0.5], color='blue', lw=2, linestyle='--')\n",
    "\n",
    "loc = np.arange(0,max(label),max(label)/float(len(colors)))\n",
    "plt.xlabel('n')\n",
    "plt.ylabel('Probabiltiy of Heart Disease (1) - Prediction on unseen data')\n",
    "plt.title('Decision Boundary @ 0.5 (blue line)')\n",
    "plt.legend()\n",
    "plt.show()\n",
    "print('Red = Patients with known heart disease (Label = 1)')\n",
    "print('Green = Patients with known to disease free (Label = 0)')"
   ]
  },
  {
   "cell_type": "code",
   "execution_count": 160,
   "metadata": {},
   "outputs": [],
   "source": [
    "#saving model - does pretty well in the longrun\n",
    "import pickle\n",
    "FinalLR = 'finalized_model.sav'\n",
    "pickle.dump(Optlr, open(FinalLR, 'wb'))"
   ]
  },
  {
   "cell_type": "code",
   "execution_count": 161,
   "metadata": {},
   "outputs": [],
   "source": [
    "#EXPLORE GRADIENTBOOSTING"
   ]
  },
  {
   "cell_type": "code",
   "execution_count": 162,
   "metadata": {},
   "outputs": [],
   "source": [
    "#Optimize pamameters Random and Grid searches"
   ]
  },
  {
   "cell_type": "code",
   "execution_count": 163,
   "metadata": {},
   "outputs": [
    {
     "name": "stderr",
     "output_type": "stream",
     "text": [
      "C:\\Users\\kathy\\Anaconda3\\lib\\site-packages\\sklearn\\model_selection\\_split.py:2053: FutureWarning: You should specify a value for 'cv' instead of relying on the default value. The default value will change from 3 to 5 in version 0.22.\n",
      "  warnings.warn(CV_WARNING, FutureWarning)\n"
     ]
    },
    {
     "name": "stdout",
     "output_type": "stream",
     "text": [
      "Best: 0.816254 using {'n_estimators': 30, 'min_samples_split': 4, 'max_features': 'auto', 'max_depth': 3, 'learning_rate': 0.15}\n"
     ]
    }
   ],
   "source": [
    "gb01= GradientBoostingClassifier()\n",
    "learning_rate =[0.05, 0.1, 0.15, 0.2, 0.25, 0.3, 0.35, 0.4]\n",
    "n_estimators = [10, 20, 30, 40, 50, 60, 70]\n",
    "max_depth =[2, 3, 4, 5]\n",
    "max_features = ['auto', None]\n",
    "min_samples_split = [2, 3, 4, 6, 8, 10, 12]\n",
    "\n",
    "param_grid = dict(max_depth = max_depth, max_features = max_features, min_samples_split = min_samples_split, learning_rate = learning_rate, n_estimators = n_estimators)\n",
    "random = RandomizedSearchCV(estimator=gb01, param_distributions=param_grid, cv = None)\n",
    "\n",
    "random_result = random.fit(X_tv, y_tv)\n",
    "print(\"Best: %f using %s\" % (random_result.best_score_, random_result.best_params_))"
   ]
  },
  {
   "cell_type": "code",
   "execution_count": 164,
   "metadata": {},
   "outputs": [
    {
     "name": "stdout",
     "output_type": "stream",
     "text": [
      "Best: 0.833922 using {'learning_rate': 0.15, 'max_depth': 2, 'max_features': 'auto', 'min_samples_split': 8, 'n_estimators': 50}\n"
     ]
    },
    {
     "name": "stderr",
     "output_type": "stream",
     "text": [
      "C:\\Users\\kathy\\Anaconda3\\lib\\site-packages\\sklearn\\model_selection\\_search.py:841: DeprecationWarning: The default of the `iid` parameter will change from True to False in version 0.22 and will be removed in 0.24. This will change numeric results when test-set sizes are unequal.\n",
      "  DeprecationWarning)\n"
     ]
    }
   ],
   "source": [
    "gb02= GradientBoostingClassifier()\n",
    "learning_rate =[0.05, 0.1, 0.15, 0.2, 0.25, 0.3, 0.35, 0.4]\n",
    "n_estimators = [10, 20, 30, 40, 50, 60, 70]\n",
    "max_depth =[2, 3, 4, 5]\n",
    "max_features = ['auto', None]\n",
    "min_samples_split = [2, 3, 4, 6, 8, 10, 12]\n",
    "\n",
    "param_grid = dict(max_depth = max_depth, max_features = max_features, min_samples_split = min_samples_split, learning_rate = learning_rate, n_estimators = n_estimators)\n",
    "grid = GridSearchCV(estimator=gb02, param_grid=param_grid, cv = 5)\n",
    "\n",
    "\n",
    "grid_result = grid.fit(X_tv, y_tv)\n",
    "print(\"Best: %f using %s\" % (grid_result.best_score_, grid_result.best_params_))"
   ]
  },
  {
   "cell_type": "code",
   "execution_count": 165,
   "metadata": {},
   "outputs": [
    {
     "name": "stdout",
     "output_type": "stream",
     "text": [
      "Cross Validation of partially optimized Logistic regression\n",
      "Accuracy: 0.83 (+/- 0.10)\n"
     ]
    }
   ],
   "source": [
    "#Cross- validation with Optimized parameters\n",
    "Optgb = GradientBoostingClassifier(max_depth = 2, max_features = 'auto', min_samples_split = 8, learning_rate = 0.15, n_estimators = 50)\n",
    "scores = cross_val_score(Optgb, X_tv, y_tv, cv=10)\n",
    "print('Cross Validation of partially optimized Logistic regression')\n",
    "print(\"Accuracy: %0.2f (+/- %0.2f)\" % (scores.mean(), scores.std() * 2))"
   ]
  },
  {
   "cell_type": "code",
   "execution_count": 89,
   "metadata": {},
   "outputs": [
    {
     "name": "stdout",
     "output_type": "stream",
     "text": [
      "Prediction with Holdout test set using Optgb\n",
      "Model score:  0.9434628975265018\n",
      "Accuracy:   0.75\n",
      "Confusion Matrix: \n"
     ]
    },
    {
     "data": {
      "text/plain": [
       "<matplotlib.axes._subplots.AxesSubplot at 0x1dc68a2cd30>"
      ]
     },
     "execution_count": 89,
     "metadata": {},
     "output_type": "execute_result"
    },
    {
     "data": {
      "image/png": "[encoded data removed]",
      "text/plain": [
       "<Figure size 432x288 with 2 Axes>"
      ]
     },
     "metadata": {},
     "output_type": "display_data"
    }
   ],
   "source": [
    "Optgb = GradientBoostingClassifier(max_depth = 2, max_features = 'auto', min_samples_split = 8, learning_rate = 0.15, n_estimators = 50)\n",
    "Optgb.fit(X_tv, y_tv)\n",
    "ypred= Optgb.predict(X_testHO)\n",
    "print('Prediction with Holdout test set using Optgb')\n",
    "print('Model score: ', Optgb.score(X_tv, y_tv))\n",
    "print('Accuracy:  ', metrics.accuracy_score(y_testHO, ypred))\n",
    "cm = metrics.confusion_matrix(y_testHO, ypred)\n",
    "print(\"Confusion Matrix: \")\n",
    "sns.set(font_scale=1.4)\n",
    "sns.heatmap(cm, annot=True,annot_kws={\"size\": 16}, cmap='RdYlGn')"
   ]
  },
  {
   "cell_type": "code",
   "execution_count": 70,
   "metadata": {},
   "outputs": [],
   "source": [
    "import pickle\n",
    "FinalGB = 'finalized_GB.sav'\n",
    "pickle.dump(Optgb, open(FinalGB, 'wb'))"
   ]
  },
  {
   "cell_type": "code",
   "execution_count": 71,
   "metadata": {},
   "outputs": [],
   "source": [
    "#Two good models found - will work on present and submit by July 7, 2019\n",
    "#May work with other models if time permits"
   ]
  },
  {
   "cell_type": "code",
   "execution_count": 72,
   "metadata": {},
   "outputs": [
    {
     "name": "stdout",
     "output_type": "stream",
     "text": [
      "SVC(C=1.0, cache_size=200, class_weight=None, coef0=0.0,\n",
      "  decision_function_shape='ovr', degree=3, gamma='auto_deprecated',\n",
      "  kernel='rbf', max_iter=-1, probability=False, random_state=None,\n",
      "  shrinking=True, tol=0.001, verbose=False)\n"
     ]
    }
   ],
   "source": [
    "#Well - this worked pretty well!!!! Principal Conponents modeled with logistic Regression!!!!\n",
    "#except false negatives higher than I'd like - thinking about trying this as my model but changing \n",
    "#the \"probability balance\" (don't know what its called) so false neg minimize \n",
    "svm.SVC?\n",
    "print(svm.SVC())"
   ]
  },
  {
   "cell_type": "code",
   "execution_count": 64,
   "metadata": {},
   "outputs": [
    {
     "name": "stdout",
     "output_type": "stream",
     "text": [
      "{'kernel': ['linear', 'rbf', 'poly'], 'C': [0.001, 0.01, 0.1, 1, 10], 'gamma': [0.001, 0.01, 0.1, 1]}\n",
      "Best: 0.848057 using {'C': 1, 'gamma': 0.01, 'kernel': 'rbf'}\n"
     ]
    },
    {
     "name": "stderr",
     "output_type": "stream",
     "text": [
      "C:\\Users\\kathy\\Anaconda3\\lib\\site-packages\\sklearn\\model_selection\\_search.py:841: DeprecationWarning: The default of the `iid` parameter will change from True to False in version 0.22 and will be removed in 0.24. This will change numeric results when test-set sizes are unequal.\n",
      "  DeprecationWarning)\n"
     ]
    }
   ],
   "source": [
    "\n",
    "sm = svm.SVC()\n",
    "\n",
    "kernels = ['linear', 'rbf', 'poly']\n",
    "Cs = [0.001, 0.01, 0.1, 1, 10]\n",
    "gammas = [0.001, 0.01, 0.1, 1]\n",
    "\n",
    "param_grid = dict(kernel = kernels, C = Cs, gamma = gammas)\n",
    "grid1 = GridSearchCV(estimator=sm, param_grid=param_grid, cv = 10)\n",
    "print(param_grid)\n",
    "\n",
    "grid_result1 = grid1.fit(X_tv, y_tv)\n",
    "# Summarize results\n",
    "print(\"Best: %f using %s\" % (grid_result1.best_score_, grid_result1.best_params_)) "
   ]
  },
  {
   "cell_type": "code",
   "execution_count": 88,
   "metadata": {},
   "outputs": [
    {
     "name": "stdout",
     "output_type": "stream",
     "text": [
      "Prediction with Holdout test set using Optgb\n",
      "Model score:  0.8586572438162544\n",
      "Accuracy:   0.85\n",
      "Confusion Matrix: \n"
     ]
    },
    {
     "data": {
      "text/plain": [
       "<matplotlib.axes._subplots.AxesSubplot at 0x1dc68409208>"
      ]
     },
     "execution_count": 88,
     "metadata": {},
     "output_type": "execute_result"
    },
    {
     "data": {
      "image/png": "[encoded data removed]",
      "text/plain": [
       "<Figure size 432x288 with 2 Axes>"
      ]
     },
     "metadata": {},
     "output_type": "display_data"
    }
   ],
   "source": [
    "Optsm = svm.SVC(C = 1, gamma=0.01, kernel = 'rbf')\n",
    "Optsm.fit(X_tv, y_tv)\n",
    "ypred= Optsm.predict(X_testHO)\n",
    "print('Prediction with Holdout test set using Optgb')\n",
    "\n",
    "print('Model score: ', Optsm.score(X_tv, y_tv))\n",
    "print('Accuracy:  ', metrics.accuracy_score(y_testHO, ypred))\n",
    "cm = metrics.confusion_matrix(y_testHO, ypred)\n",
    "print(\"Confusion Matrix: \")\n",
    "\n",
    "sns.set(font_scale=1.4)\n",
    "sns.heatmap(cm, annot=True,annot_kws={\"size\": 16}, cmap='RdYlGn')"
   ]
  },
  {
   "cell_type": "code",
   "execution_count": null,
   "metadata": {},
   "outputs": [],
   "source": [
    "#Other models to look at\n",
    "Fmodel = RandomForestClassifier()\n",
    "classifiers.append(RFmodel)\n",
    "\n",
    "DTmodel = DecisionTreeClassifier()\n",
    "classifiers.append(DTmodel)\n",
    "\n",
    "KNmodel = KNeighborsClassifier(n_neighbors=3)\n",
    "classifiers.append(KNmodel)\n",
    "\n",
    "ABmodel = AdaBoostClassifier()\n",
    "classifiers.append(ABmodel)\n"
   ]
  },
  {
   "cell_type": "code",
   "execution_count": 78,
   "metadata": {},
   "outputs": [
    {
     "name": "stdout",
     "output_type": "stream",
     "text": [
      "Best fit {'max_depth': 5, 'min_samples_leaf': 5, 'min_samples_split': 15, 'n_estimators': 50}\n"
     ]
    },
    {
     "name": "stderr",
     "output_type": "stream",
     "text": [
      "C:\\Users\\kathy\\Anaconda3\\lib\\site-packages\\sklearn\\model_selection\\_search.py:841: DeprecationWarning: The default of the `iid` parameter will change from True to False in version 0.22 and will be removed in 0.24. This will change numeric results when test-set sizes are unequal.\n",
      "  DeprecationWarning)\n"
     ]
    }
   ],
   "source": [
    "#examine Random Forest\n",
    "from sklearn.model_selection import GridSearchCV\n",
    "n_estimators = [50, 100, 200]\n",
    "max_depth = [3, 5, 8, 15]\n",
    "min_samples_split = [2, 5, 10, 15]\n",
    "min_samples_leaf = [1, 2, 5, 10] \n",
    "\n",
    "para_grid = dict(n_estimators = n_estimators, max_depth = max_depth,  \n",
    "              min_samples_split = min_samples_split, \n",
    "             min_samples_leaf = min_samples_leaf)\n",
    "\n",
    "gridF = GridSearchCV(RFmodel, para_grid, cv = 5)\n",
    "bestF = gridF.fit(Xtrain, ytrain)\n",
    "print('Best fit', gridF.best_params_)"
   ]
  },
  {
   "cell_type": "code",
   "execution_count": 87,
   "metadata": {},
   "outputs": [
    {
     "name": "stdout",
     "output_type": "stream",
     "text": [
      "RandomForestClassifier(bootstrap=True, class_weight=None, criterion='gini',\n",
      "            max_depth=5, max_features='auto', max_leaf_nodes=None,\n",
      "            min_impurity_decrease=0.0, min_impurity_split=None,\n",
      "            min_samples_leaf=1, min_samples_split=5,\n",
      "            min_weight_fraction_leaf=0.0, n_estimators=100, n_jobs=None,\n",
      "            oob_score=False, random_state=None, verbose=0,\n",
      "            warm_start=False)\n",
      "Model score:  0.9734513274336283\n",
      "Accuracy:   0.7543859649122807\n",
      "Confusion Matrix: \n"
     ]
    },
    {
     "data": {
      "text/plain": [
       "<matplotlib.axes._subplots.AxesSubplot at 0x1dc68c06ac8>"
      ]
     },
     "execution_count": 87,
     "metadata": {},
     "output_type": "execute_result"
    },
    {
     "data": {
      "image/png": "[encoded data removed]",
      "text/plain": [
       "<Figure size 432x288 with 2 Axes>"
      ]
     },
     "metadata": {},
     "output_type": "display_data"
    }
   ],
   "source": [
    "RFmodel = RandomForestClassifier(max_depth = 5, min_samples_leaf = 1, min_samples_split = 5, n_estimators = 100)\n",
    "RFmodel.fit(Xtrain, ytrain)\n",
    "y_pred= RFmodel.predict(Xval)\n",
    "print(RFmodel)\n",
    "print('Model score: ', RFmodel.score(Xtrain, ytrain))\n",
    "print(\"Accuracy:  \", metrics.accuracy_score(yval, y_pred))\n",
    "cm = metrics.confusion_matrix(yval, y_pred)\n",
    "print(\"Confusion Matrix: \")\n",
    "\n",
    "\n",
    "sns.set(font_scale=1.4)\n",
    "sns.heatmap(cm, annot=True,annot_kws={\"size\": 16}, cmap='RdYlGn')"
   ]
  },
  {
   "cell_type": "code",
   "execution_count": null,
   "metadata": {},
   "outputs": [],
   "source": []
  },
  {
   "cell_type": "code",
   "execution_count": null,
   "metadata": {},
   "outputs": [],
   "source": []
  },
  {
   "cell_type": "code",
   "execution_count": null,
   "metadata": {},
   "outputs": [],
   "source": []
  },
  {
   "cell_type": "code",
   "execution_count": null,
   "metadata": {},
   "outputs": [],
   "source": []
  }
 ],
 "metadata": {
  "kernelspec": {
   "display_name": "Python 3",
   "language": "python",
   "name": "python3"
  },
  "language_info": {
   "codemirror_mode": {
    "name": "ipython",
    "version": 3
   },
   "file_extension": ".py",
   "mimetype": "text/x-python",
   "name": "python",
   "nbconvert_exporter": "python",
   "pygments_lexer": "ipython3",
   "version": "3.7.1"
  }
 },
 "nbformat": 4,
 "nbformat_minor": 2
}
