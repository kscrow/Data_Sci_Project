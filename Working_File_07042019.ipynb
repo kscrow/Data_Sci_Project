{
 "cells": [
  {
   "cell_type": "code",
   "execution_count": 2,
   "metadata": {},
   "outputs": [],
   "source": [
    "import pandas as pd\n",
    "import matplotlib.pyplot as plt\n",
    "import seaborn as sns; sns.set()\n",
    "import numpy as np\n",
    "from sklearn.preprocessing import StandardScaler\n",
    "%matplotlib inline"
   ]
  },
  {
   "cell_type": "code",
   "execution_count": 153,
   "metadata": {
    "scrolled": true
   },
   "outputs": [],
   "source": [
    "heartdata = pd.read_csv('heart_kaggle_project.csv')\n",
    "#leaving out some data checks and descriptive statistics because contained in data transformation and scouting NB"
   ]
  },
  {
   "cell_type": "code",
   "execution_count": 154,
   "metadata": {},
   "outputs": [],
   "source": [
    "heartdata = heartdata.reindex(np.random.permutation(heartdata.index))"
   ]
  },
  {
   "cell_type": "code",
   "execution_count": 155,
   "metadata": {},
   "outputs": [
    {
     "data": {
      "text/html": [
       "<div>\n",
       "<style scoped>\n",
       "    .dataframe tbody tr th:only-of-type {\n",
       "        vertical-align: middle;\n",
       "    }\n",
       "\n",
       "    .dataframe tbody tr th {\n",
       "        vertical-align: top;\n",
       "    }\n",
       "\n",
       "    .dataframe thead th {\n",
       "        text-align: right;\n",
       "    }\n",
       "</style>\n",
       "<table border=\"1\" class=\"dataframe\">\n",
       "  <thead>\n",
       "    <tr style=\"text-align: right;\">\n",
       "      <th></th>\n",
       "      <th>age</th>\n",
       "      <th>sex</th>\n",
       "      <th>cp</th>\n",
       "      <th>trestbps</th>\n",
       "      <th>chol</th>\n",
       "      <th>fbs</th>\n",
       "      <th>restecg</th>\n",
       "      <th>thalach</th>\n",
       "      <th>exang</th>\n",
       "      <th>oldpeak</th>\n",
       "      <th>slope</th>\n",
       "      <th>ca</th>\n",
       "      <th>thal</th>\n",
       "      <th>target</th>\n",
       "    </tr>\n",
       "  </thead>\n",
       "  <tbody>\n",
       "    <tr>\n",
       "      <th>0</th>\n",
       "      <td>35</td>\n",
       "      <td>1</td>\n",
       "      <td>1</td>\n",
       "      <td>122</td>\n",
       "      <td>192</td>\n",
       "      <td>0</td>\n",
       "      <td>1</td>\n",
       "      <td>174</td>\n",
       "      <td>0</td>\n",
       "      <td>0.0</td>\n",
       "      <td>2</td>\n",
       "      <td>0</td>\n",
       "      <td>2</td>\n",
       "      <td>1</td>\n",
       "    </tr>\n",
       "    <tr>\n",
       "      <th>1</th>\n",
       "      <td>71</td>\n",
       "      <td>0</td>\n",
       "      <td>1</td>\n",
       "      <td>160</td>\n",
       "      <td>302</td>\n",
       "      <td>0</td>\n",
       "      <td>1</td>\n",
       "      <td>162</td>\n",
       "      <td>0</td>\n",
       "      <td>0.4</td>\n",
       "      <td>2</td>\n",
       "      <td>2</td>\n",
       "      <td>2</td>\n",
       "      <td>1</td>\n",
       "    </tr>\n",
       "    <tr>\n",
       "      <th>2</th>\n",
       "      <td>57</td>\n",
       "      <td>1</td>\n",
       "      <td>0</td>\n",
       "      <td>165</td>\n",
       "      <td>289</td>\n",
       "      <td>1</td>\n",
       "      <td>0</td>\n",
       "      <td>124</td>\n",
       "      <td>0</td>\n",
       "      <td>1.0</td>\n",
       "      <td>1</td>\n",
       "      <td>3</td>\n",
       "      <td>3</td>\n",
       "      <td>0</td>\n",
       "    </tr>\n",
       "    <tr>\n",
       "      <th>3</th>\n",
       "      <td>62</td>\n",
       "      <td>1</td>\n",
       "      <td>1</td>\n",
       "      <td>120</td>\n",
       "      <td>281</td>\n",
       "      <td>0</td>\n",
       "      <td>0</td>\n",
       "      <td>103</td>\n",
       "      <td>0</td>\n",
       "      <td>1.4</td>\n",
       "      <td>1</td>\n",
       "      <td>1</td>\n",
       "      <td>3</td>\n",
       "      <td>0</td>\n",
       "    </tr>\n",
       "    <tr>\n",
       "      <th>4</th>\n",
       "      <td>47</td>\n",
       "      <td>1</td>\n",
       "      <td>2</td>\n",
       "      <td>130</td>\n",
       "      <td>253</td>\n",
       "      <td>0</td>\n",
       "      <td>1</td>\n",
       "      <td>179</td>\n",
       "      <td>0</td>\n",
       "      <td>0.0</td>\n",
       "      <td>2</td>\n",
       "      <td>0</td>\n",
       "      <td>2</td>\n",
       "      <td>1</td>\n",
       "    </tr>\n",
       "  </tbody>\n",
       "</table>\n",
       "</div>"
      ],
      "text/plain": [
       "   age  sex  cp  trestbps  chol  fbs  restecg  thalach  exang  oldpeak  slope  \\\n",
       "0   35    1   1       122   192    0        1      174      0      0.0      2   \n",
       "1   71    0   1       160   302    0        1      162      0      0.4      2   \n",
       "2   57    1   0       165   289    1        0      124      0      1.0      1   \n",
       "3   62    1   1       120   281    0        0      103      0      1.4      1   \n",
       "4   47    1   2       130   253    0        1      179      0      0.0      2   \n",
       "\n",
       "   ca  thal  target  \n",
       "0   0     2       1  \n",
       "1   2     2       1  \n",
       "2   3     3       0  \n",
       "3   1     3       0  \n",
       "4   0     2       1  "
      ]
     },
     "execution_count": 155,
     "metadata": {},
     "output_type": "execute_result"
    }
   ],
   "source": [
    "heartdata = heartdata.reset_index(drop=True)\n",
    "heartdata.head()"
   ]
  },
  {
   "cell_type": "code",
   "execution_count": 156,
   "metadata": {},
   "outputs": [],
   "source": [
    "#scaling continuous variables, I am including restecg, slope, and ca because I think of\n",
    "#these as directional values, not categorical"
   ]
  },
  {
   "cell_type": "code",
   "execution_count": 157,
   "metadata": {},
   "outputs": [
    {
     "name": "stderr",
     "output_type": "stream",
     "text": [
      "C:\\Users\\kathy\\Anaconda3\\lib\\site-packages\\sklearn\\preprocessing\\data.py:625: DataConversionWarning: Data with input dtype int64, float64 were all converted to float64 by StandardScaler.\n",
      "  return self.partial_fit(X, y)\n",
      "C:\\Users\\kathy\\Anaconda3\\lib\\site-packages\\sklearn\\base.py:462: DataConversionWarning: Data with input dtype int64, float64 were all converted to float64 by StandardScaler.\n",
      "  return self.fit(X, **fit_params).transform(X)\n"
     ]
    },
    {
     "data": {
      "text/html": [
       "<div>\n",
       "<style scoped>\n",
       "    .dataframe tbody tr th:only-of-type {\n",
       "        vertical-align: middle;\n",
       "    }\n",
       "\n",
       "    .dataframe tbody tr th {\n",
       "        vertical-align: top;\n",
       "    }\n",
       "\n",
       "    .dataframe thead th {\n",
       "        text-align: right;\n",
       "    }\n",
       "</style>\n",
       "<table border=\"1\" class=\"dataframe\">\n",
       "  <thead>\n",
       "    <tr style=\"text-align: right;\">\n",
       "      <th></th>\n",
       "      <th>age</th>\n",
       "      <th>sex</th>\n",
       "      <th>cp</th>\n",
       "      <th>trestbps</th>\n",
       "      <th>chol</th>\n",
       "      <th>fbs</th>\n",
       "      <th>restecg</th>\n",
       "      <th>thalach</th>\n",
       "      <th>exang</th>\n",
       "      <th>oldpeak</th>\n",
       "      <th>slope</th>\n",
       "      <th>ca</th>\n",
       "      <th>thal</th>\n",
       "      <th>target</th>\n",
       "    </tr>\n",
       "  </thead>\n",
       "  <tbody>\n",
       "    <tr>\n",
       "      <th>0</th>\n",
       "      <td>-2.135891</td>\n",
       "      <td>1</td>\n",
       "      <td>1</td>\n",
       "      <td>-0.549641</td>\n",
       "      <td>-1.048678</td>\n",
       "      <td>0</td>\n",
       "      <td>0.898962</td>\n",
       "      <td>1.064975</td>\n",
       "      <td>0</td>\n",
       "      <td>-0.896862</td>\n",
       "      <td>0.976352</td>\n",
       "      <td>-0.714429</td>\n",
       "      <td>2</td>\n",
       "      <td>1</td>\n",
       "    </tr>\n",
       "    <tr>\n",
       "      <th>1</th>\n",
       "      <td>1.834507</td>\n",
       "      <td>0</td>\n",
       "      <td>1</td>\n",
       "      <td>1.620649</td>\n",
       "      <td>1.077125</td>\n",
       "      <td>0</td>\n",
       "      <td>0.898962</td>\n",
       "      <td>0.540209</td>\n",
       "      <td>0</td>\n",
       "      <td>-0.551783</td>\n",
       "      <td>0.976352</td>\n",
       "      <td>1.244593</td>\n",
       "      <td>2</td>\n",
       "      <td>1</td>\n",
       "    </tr>\n",
       "    <tr>\n",
       "      <th>2</th>\n",
       "      <td>0.290464</td>\n",
       "      <td>1</td>\n",
       "      <td>0</td>\n",
       "      <td>1.906214</td>\n",
       "      <td>0.825893</td>\n",
       "      <td>1</td>\n",
       "      <td>-1.005832</td>\n",
       "      <td>-1.121550</td>\n",
       "      <td>0</td>\n",
       "      <td>-0.034166</td>\n",
       "      <td>-0.649113</td>\n",
       "      <td>2.224104</td>\n",
       "      <td>3</td>\n",
       "      <td>0</td>\n",
       "    </tr>\n",
       "    <tr>\n",
       "      <th>3</th>\n",
       "      <td>0.841908</td>\n",
       "      <td>1</td>\n",
       "      <td>1</td>\n",
       "      <td>-0.663867</td>\n",
       "      <td>0.671289</td>\n",
       "      <td>0</td>\n",
       "      <td>-1.005832</td>\n",
       "      <td>-2.039891</td>\n",
       "      <td>0</td>\n",
       "      <td>0.310912</td>\n",
       "      <td>-0.649113</td>\n",
       "      <td>0.265082</td>\n",
       "      <td>3</td>\n",
       "      <td>0</td>\n",
       "    </tr>\n",
       "    <tr>\n",
       "      <th>4</th>\n",
       "      <td>-0.812425</td>\n",
       "      <td>1</td>\n",
       "      <td>2</td>\n",
       "      <td>-0.092738</td>\n",
       "      <td>0.130176</td>\n",
       "      <td>0</td>\n",
       "      <td>0.898962</td>\n",
       "      <td>1.283627</td>\n",
       "      <td>0</td>\n",
       "      <td>-0.896862</td>\n",
       "      <td>0.976352</td>\n",
       "      <td>-0.714429</td>\n",
       "      <td>2</td>\n",
       "      <td>1</td>\n",
       "    </tr>\n",
       "  </tbody>\n",
       "</table>\n",
       "</div>"
      ],
      "text/plain": [
       "        age  sex  cp  trestbps      chol  fbs   restecg   thalach  exang  \\\n",
       "0 -2.135891    1   1 -0.549641 -1.048678    0  0.898962  1.064975      0   \n",
       "1  1.834507    0   1  1.620649  1.077125    0  0.898962  0.540209      0   \n",
       "2  0.290464    1   0  1.906214  0.825893    1 -1.005832 -1.121550      0   \n",
       "3  0.841908    1   1 -0.663867  0.671289    0 -1.005832 -2.039891      0   \n",
       "4 -0.812425    1   2 -0.092738  0.130176    0  0.898962  1.283627      0   \n",
       "\n",
       "    oldpeak     slope        ca  thal  target  \n",
       "0 -0.896862  0.976352 -0.714429     2       1  \n",
       "1 -0.551783  0.976352  1.244593     2       1  \n",
       "2 -0.034166 -0.649113  2.224104     3       0  \n",
       "3  0.310912 -0.649113  0.265082     3       0  \n",
       "4 -0.896862  0.976352 -0.714429     2       1  "
      ]
     },
     "execution_count": 157,
     "metadata": {},
     "output_type": "execute_result"
    }
   ],
   "source": [
    "heartdata[['age', 'trestbps', 'chol', 'restecg', 'thalach', 'oldpeak', 'slope', 'ca']] = StandardScaler().fit_transform(heartdata[['age', 'trestbps', 'chol','restecg', 'thalach', 'oldpeak', 'slope', 'ca']])\n",
    "heartdata.head()"
   ]
  },
  {
   "cell_type": "code",
   "execution_count": 158,
   "metadata": {},
   "outputs": [
    {
     "data": {
      "text/html": [
       "<div>\n",
       "<style scoped>\n",
       "    .dataframe tbody tr th:only-of-type {\n",
       "        vertical-align: middle;\n",
       "    }\n",
       "\n",
       "    .dataframe tbody tr th {\n",
       "        vertical-align: top;\n",
       "    }\n",
       "\n",
       "    .dataframe thead th {\n",
       "        text-align: right;\n",
       "    }\n",
       "</style>\n",
       "<table border=\"1\" class=\"dataframe\">\n",
       "  <thead>\n",
       "    <tr style=\"text-align: right;\">\n",
       "      <th></th>\n",
       "      <th>age</th>\n",
       "      <th>trestbps</th>\n",
       "      <th>chol</th>\n",
       "      <th>restecg</th>\n",
       "      <th>thalach</th>\n",
       "      <th>oldpeak</th>\n",
       "      <th>slope</th>\n",
       "      <th>ca</th>\n",
       "    </tr>\n",
       "  </thead>\n",
       "  <tbody>\n",
       "    <tr>\n",
       "      <th>0</th>\n",
       "      <td>-2.135891</td>\n",
       "      <td>-0.549641</td>\n",
       "      <td>-1.048678</td>\n",
       "      <td>0.898962</td>\n",
       "      <td>1.064975</td>\n",
       "      <td>-0.896862</td>\n",
       "      <td>0.976352</td>\n",
       "      <td>-0.714429</td>\n",
       "    </tr>\n",
       "    <tr>\n",
       "      <th>1</th>\n",
       "      <td>1.834507</td>\n",
       "      <td>1.620649</td>\n",
       "      <td>1.077125</td>\n",
       "      <td>0.898962</td>\n",
       "      <td>0.540209</td>\n",
       "      <td>-0.551783</td>\n",
       "      <td>0.976352</td>\n",
       "      <td>1.244593</td>\n",
       "    </tr>\n",
       "    <tr>\n",
       "      <th>2</th>\n",
       "      <td>0.290464</td>\n",
       "      <td>1.906214</td>\n",
       "      <td>0.825893</td>\n",
       "      <td>-1.005832</td>\n",
       "      <td>-1.121550</td>\n",
       "      <td>-0.034166</td>\n",
       "      <td>-0.649113</td>\n",
       "      <td>2.224104</td>\n",
       "    </tr>\n",
       "    <tr>\n",
       "      <th>3</th>\n",
       "      <td>0.841908</td>\n",
       "      <td>-0.663867</td>\n",
       "      <td>0.671289</td>\n",
       "      <td>-1.005832</td>\n",
       "      <td>-2.039891</td>\n",
       "      <td>0.310912</td>\n",
       "      <td>-0.649113</td>\n",
       "      <td>0.265082</td>\n",
       "    </tr>\n",
       "    <tr>\n",
       "      <th>4</th>\n",
       "      <td>-0.812425</td>\n",
       "      <td>-0.092738</td>\n",
       "      <td>0.130176</td>\n",
       "      <td>0.898962</td>\n",
       "      <td>1.283627</td>\n",
       "      <td>-0.896862</td>\n",
       "      <td>0.976352</td>\n",
       "      <td>-0.714429</td>\n",
       "    </tr>\n",
       "  </tbody>\n",
       "</table>\n",
       "</div>"
      ],
      "text/plain": [
       "        age  trestbps      chol   restecg   thalach   oldpeak     slope  \\\n",
       "0 -2.135891 -0.549641 -1.048678  0.898962  1.064975 -0.896862  0.976352   \n",
       "1  1.834507  1.620649  1.077125  0.898962  0.540209 -0.551783  0.976352   \n",
       "2  0.290464  1.906214  0.825893 -1.005832 -1.121550 -0.034166 -0.649113   \n",
       "3  0.841908 -0.663867  0.671289 -1.005832 -2.039891  0.310912 -0.649113   \n",
       "4 -0.812425 -0.092738  0.130176  0.898962  1.283627 -0.896862  0.976352   \n",
       "\n",
       "         ca  \n",
       "0 -0.714429  \n",
       "1  1.244593  \n",
       "2  2.224104  \n",
       "3  0.265082  \n",
       "4 -0.714429  "
      ]
     },
     "execution_count": 158,
     "metadata": {},
     "output_type": "execute_result"
    }
   ],
   "source": [
    "#drop categorical values\n",
    "x = heartdata.drop(['sex', 'cp', 'fbs', 'exang', 'thal', 'target'], axis = 1)\n",
    "x.head()"
   ]
  },
  {
   "cell_type": "code",
   "execution_count": 159,
   "metadata": {
    "scrolled": true
   },
   "outputs": [
    {
     "data": {
      "text/plain": [
       "0    1\n",
       "1    1\n",
       "2    0\n",
       "3    0\n",
       "4    1\n",
       "Name: target, dtype: int64"
      ]
     },
     "execution_count": 159,
     "metadata": {},
     "output_type": "execute_result"
    }
   ],
   "source": [
    "y = heartdata['target']\n",
    "y.head()"
   ]
  },
  {
   "cell_type": "code",
   "execution_count": 160,
   "metadata": {},
   "outputs": [],
   "source": [
    "from sklearn.decomposition import PCA\n",
    "pca = PCA(n_components=2)\n",
    "principalComponents = pca.fit_transform(x)\n",
    "principalDf = pd.DataFrame(data = principalComponents, columns = ['PC1', 'PC2'])"
   ]
  },
  {
   "cell_type": "code",
   "execution_count": 161,
   "metadata": {},
   "outputs": [
    {
     "data": {
      "text/plain": [
       "array([0.29109979, 0.16025912])"
      ]
     },
     "execution_count": 161,
     "metadata": {},
     "output_type": "execute_result"
    }
   ],
   "source": [
    "pca.explained_variance_ratio_"
   ]
  },
  {
   "cell_type": "code",
   "execution_count": 162,
   "metadata": {},
   "outputs": [
    {
     "name": "stdout",
     "output_type": "stream",
     "text": [
      "0.45135891102708403\n"
     ]
    }
   ],
   "source": [
    "print((pca.explained_variance_ratio_).sum())"
   ]
  },
  {
   "cell_type": "code",
   "execution_count": 163,
   "metadata": {},
   "outputs": [
    {
     "data": {
      "text/html": [
       "<div>\n",
       "<style scoped>\n",
       "    .dataframe tbody tr th:only-of-type {\n",
       "        vertical-align: middle;\n",
       "    }\n",
       "\n",
       "    .dataframe tbody tr th {\n",
       "        vertical-align: top;\n",
       "    }\n",
       "\n",
       "    .dataframe thead th {\n",
       "        text-align: right;\n",
       "    }\n",
       "</style>\n",
       "<table border=\"1\" class=\"dataframe\">\n",
       "  <thead>\n",
       "    <tr style=\"text-align: right;\">\n",
       "      <th></th>\n",
       "      <th>PC1</th>\n",
       "      <th>PC2</th>\n",
       "      <th>target</th>\n",
       "    </tr>\n",
       "  </thead>\n",
       "  <tbody>\n",
       "    <tr>\n",
       "      <th>0</th>\n",
       "      <td>-2.884621</td>\n",
       "      <td>-1.009978</td>\n",
       "      <td>1</td>\n",
       "    </tr>\n",
       "    <tr>\n",
       "      <th>1</th>\n",
       "      <td>0.658300</td>\n",
       "      <td>2.263482</td>\n",
       "      <td>1</td>\n",
       "    </tr>\n",
       "    <tr>\n",
       "      <th>2</th>\n",
       "      <td>2.344285</td>\n",
       "      <td>1.456616</td>\n",
       "      <td>0</td>\n",
       "    </tr>\n",
       "    <tr>\n",
       "      <th>3</th>\n",
       "      <td>1.854192</td>\n",
       "      <td>0.035436</td>\n",
       "      <td>0</td>\n",
       "    </tr>\n",
       "    <tr>\n",
       "      <th>4</th>\n",
       "      <td>-2.128403</td>\n",
       "      <td>0.271211</td>\n",
       "      <td>1</td>\n",
       "    </tr>\n",
       "  </tbody>\n",
       "</table>\n",
       "</div>"
      ],
      "text/plain": [
       "        PC1       PC2  target\n",
       "0 -2.884621 -1.009978       1\n",
       "1  0.658300  2.263482       1\n",
       "2  2.344285  1.456616       0\n",
       "3  1.854192  0.035436       0\n",
       "4 -2.128403  0.271211       1"
      ]
     },
     "execution_count": 163,
     "metadata": {},
     "output_type": "execute_result"
    }
   ],
   "source": [
    "finalDf = pd.concat([principalDf, heartdata[['target']]], axis = 1)\n",
    "finalDf.head()"
   ]
  },
  {
   "cell_type": "code",
   "execution_count": 164,
   "metadata": {},
   "outputs": [
    {
     "data": {
      "image/png": "[encoded data removed]",
      "text/plain": [
       "<Figure size 360x360 with 1 Axes>"
      ]
     },
     "metadata": {
      "needs_background": "light"
     },
     "output_type": "display_data"
    }
   ],
   "source": [
    "fig = plt.figure(figsize = (5,5))\n",
    "ax = fig.add_subplot(1,1,1) \n",
    "ax.set_xlabel('PC1', fontsize = 15)\n",
    "ax.set_ylabel('PC2', fontsize = 15)\n",
    "ax.set_title('2 component PCA', fontsize = 20)\n",
    "targets = [0, 1]\n",
    "colors = ['b', 'r']\n",
    "for target, color in zip(targets,colors):\n",
    "    indicesToKeep = finalDf['target'] == target\n",
    "    ax.scatter(finalDf.loc[indicesToKeep, 'PC1']\n",
    "               , finalDf.loc[indicesToKeep, 'PC2']\n",
    "               , c = color\n",
    "               , s = 50)\n",
    "ax.legend(targets)\n",
    "ax.grid()"
   ]
  },
  {
   "cell_type": "code",
   "execution_count": 165,
   "metadata": {},
   "outputs": [],
   "source": [
    "#not very satisfying - and it's known correlation between target and some categorical data is \"good\"\n",
    "#so adding in sex, cp, exang, thal "
   ]
  },
  {
   "cell_type": "code",
   "execution_count": 166,
   "metadata": {},
   "outputs": [
    {
     "data": {
      "text/html": [
       "<div>\n",
       "<style scoped>\n",
       "    .dataframe tbody tr th:only-of-type {\n",
       "        vertical-align: middle;\n",
       "    }\n",
       "\n",
       "    .dataframe tbody tr th {\n",
       "        vertical-align: top;\n",
       "    }\n",
       "\n",
       "    .dataframe thead th {\n",
       "        text-align: right;\n",
       "    }\n",
       "</style>\n",
       "<table border=\"1\" class=\"dataframe\">\n",
       "  <thead>\n",
       "    <tr style=\"text-align: right;\">\n",
       "      <th></th>\n",
       "      <th>age</th>\n",
       "      <th>trestbps</th>\n",
       "      <th>chol</th>\n",
       "      <th>fbs</th>\n",
       "      <th>restecg</th>\n",
       "      <th>thalach</th>\n",
       "      <th>oldpeak</th>\n",
       "      <th>slope</th>\n",
       "      <th>ca</th>\n",
       "      <th>sex_0</th>\n",
       "      <th>...</th>\n",
       "      <th>cp_0</th>\n",
       "      <th>cp_1</th>\n",
       "      <th>cp_2</th>\n",
       "      <th>cp_3</th>\n",
       "      <th>exang_0</th>\n",
       "      <th>exang_1</th>\n",
       "      <th>thal_0</th>\n",
       "      <th>thal_1</th>\n",
       "      <th>thal_2</th>\n",
       "      <th>thal_3</th>\n",
       "    </tr>\n",
       "  </thead>\n",
       "  <tbody>\n",
       "    <tr>\n",
       "      <th>0</th>\n",
       "      <td>-2.135891</td>\n",
       "      <td>-0.549641</td>\n",
       "      <td>-1.048678</td>\n",
       "      <td>0</td>\n",
       "      <td>0.898962</td>\n",
       "      <td>1.064975</td>\n",
       "      <td>-0.896862</td>\n",
       "      <td>0.976352</td>\n",
       "      <td>-0.714429</td>\n",
       "      <td>0</td>\n",
       "      <td>...</td>\n",
       "      <td>0</td>\n",
       "      <td>1</td>\n",
       "      <td>0</td>\n",
       "      <td>0</td>\n",
       "      <td>1</td>\n",
       "      <td>0</td>\n",
       "      <td>0</td>\n",
       "      <td>0</td>\n",
       "      <td>1</td>\n",
       "      <td>0</td>\n",
       "    </tr>\n",
       "    <tr>\n",
       "      <th>1</th>\n",
       "      <td>1.834507</td>\n",
       "      <td>1.620649</td>\n",
       "      <td>1.077125</td>\n",
       "      <td>0</td>\n",
       "      <td>0.898962</td>\n",
       "      <td>0.540209</td>\n",
       "      <td>-0.551783</td>\n",
       "      <td>0.976352</td>\n",
       "      <td>1.244593</td>\n",
       "      <td>1</td>\n",
       "      <td>...</td>\n",
       "      <td>0</td>\n",
       "      <td>1</td>\n",
       "      <td>0</td>\n",
       "      <td>0</td>\n",
       "      <td>1</td>\n",
       "      <td>0</td>\n",
       "      <td>0</td>\n",
       "      <td>0</td>\n",
       "      <td>1</td>\n",
       "      <td>0</td>\n",
       "    </tr>\n",
       "    <tr>\n",
       "      <th>2</th>\n",
       "      <td>0.290464</td>\n",
       "      <td>1.906214</td>\n",
       "      <td>0.825893</td>\n",
       "      <td>1</td>\n",
       "      <td>-1.005832</td>\n",
       "      <td>-1.121550</td>\n",
       "      <td>-0.034166</td>\n",
       "      <td>-0.649113</td>\n",
       "      <td>2.224104</td>\n",
       "      <td>0</td>\n",
       "      <td>...</td>\n",
       "      <td>1</td>\n",
       "      <td>0</td>\n",
       "      <td>0</td>\n",
       "      <td>0</td>\n",
       "      <td>1</td>\n",
       "      <td>0</td>\n",
       "      <td>0</td>\n",
       "      <td>0</td>\n",
       "      <td>0</td>\n",
       "      <td>1</td>\n",
       "    </tr>\n",
       "    <tr>\n",
       "      <th>3</th>\n",
       "      <td>0.841908</td>\n",
       "      <td>-0.663867</td>\n",
       "      <td>0.671289</td>\n",
       "      <td>0</td>\n",
       "      <td>-1.005832</td>\n",
       "      <td>-2.039891</td>\n",
       "      <td>0.310912</td>\n",
       "      <td>-0.649113</td>\n",
       "      <td>0.265082</td>\n",
       "      <td>0</td>\n",
       "      <td>...</td>\n",
       "      <td>0</td>\n",
       "      <td>1</td>\n",
       "      <td>0</td>\n",
       "      <td>0</td>\n",
       "      <td>1</td>\n",
       "      <td>0</td>\n",
       "      <td>0</td>\n",
       "      <td>0</td>\n",
       "      <td>0</td>\n",
       "      <td>1</td>\n",
       "    </tr>\n",
       "    <tr>\n",
       "      <th>4</th>\n",
       "      <td>-0.812425</td>\n",
       "      <td>-0.092738</td>\n",
       "      <td>0.130176</td>\n",
       "      <td>0</td>\n",
       "      <td>0.898962</td>\n",
       "      <td>1.283627</td>\n",
       "      <td>-0.896862</td>\n",
       "      <td>0.976352</td>\n",
       "      <td>-0.714429</td>\n",
       "      <td>0</td>\n",
       "      <td>...</td>\n",
       "      <td>0</td>\n",
       "      <td>0</td>\n",
       "      <td>1</td>\n",
       "      <td>0</td>\n",
       "      <td>1</td>\n",
       "      <td>0</td>\n",
       "      <td>0</td>\n",
       "      <td>0</td>\n",
       "      <td>1</td>\n",
       "      <td>0</td>\n",
       "    </tr>\n",
       "  </tbody>\n",
       "</table>\n",
       "<p>5 rows × 21 columns</p>\n",
       "</div>"
      ],
      "text/plain": [
       "        age  trestbps      chol  fbs   restecg   thalach   oldpeak     slope  \\\n",
       "0 -2.135891 -0.549641 -1.048678    0  0.898962  1.064975 -0.896862  0.976352   \n",
       "1  1.834507  1.620649  1.077125    0  0.898962  0.540209 -0.551783  0.976352   \n",
       "2  0.290464  1.906214  0.825893    1 -1.005832 -1.121550 -0.034166 -0.649113   \n",
       "3  0.841908 -0.663867  0.671289    0 -1.005832 -2.039891  0.310912 -0.649113   \n",
       "4 -0.812425 -0.092738  0.130176    0  0.898962  1.283627 -0.896862  0.976352   \n",
       "\n",
       "         ca  sex_0   ...    cp_0  cp_1  cp_2  cp_3  exang_0  exang_1  thal_0  \\\n",
       "0 -0.714429      0   ...       0     1     0     0        1        0       0   \n",
       "1  1.244593      1   ...       0     1     0     0        1        0       0   \n",
       "2  2.224104      0   ...       1     0     0     0        1        0       0   \n",
       "3  0.265082      0   ...       0     1     0     0        1        0       0   \n",
       "4 -0.714429      0   ...       0     0     1     0        1        0       0   \n",
       "\n",
       "   thal_1  thal_2  thal_3  \n",
       "0       0       1       0  \n",
       "1       0       1       0  \n",
       "2       0       0       1  \n",
       "3       0       0       1  \n",
       "4       0       1       0  \n",
       "\n",
       "[5 rows x 21 columns]"
      ]
     },
     "execution_count": 166,
     "metadata": {},
     "output_type": "execute_result"
    }
   ],
   "source": [
    "x_d = pd.get_dummies(heartdata, columns=['sex', 'cp', 'exang', 'thal'])\n",
    "x_d = x_d.drop('target', axis = 1)\n",
    "x_d.head()"
   ]
  },
  {
   "cell_type": "code",
   "execution_count": 167,
   "metadata": {},
   "outputs": [],
   "source": [
    "from sklearn.decomposition import PCA\n",
    "pca = PCA(n_components=2)\n",
    "principalComponents = pca.fit_transform(x_d)\n",
    "principalDf2 = pd.DataFrame(data = principalComponents, columns = ['PC1', 'PC2'])"
   ]
  },
  {
   "cell_type": "code",
   "execution_count": 168,
   "metadata": {},
   "outputs": [
    {
     "data": {
      "text/plain": [
       "array([0.24981568, 0.12983318])"
      ]
     },
     "execution_count": 168,
     "metadata": {},
     "output_type": "execute_result"
    }
   ],
   "source": [
    "pca.explained_variance_ratio_"
   ]
  },
  {
   "cell_type": "code",
   "execution_count": 169,
   "metadata": {},
   "outputs": [
    {
     "name": "stdout",
     "output_type": "stream",
     "text": [
      "0.3796488637537202\n"
     ]
    }
   ],
   "source": [
    "print((pca.explained_variance_ratio_).sum())"
   ]
  },
  {
   "cell_type": "code",
   "execution_count": 170,
   "metadata": {},
   "outputs": [
    {
     "data": {
      "text/html": [
       "<div>\n",
       "<style scoped>\n",
       "    .dataframe tbody tr th:only-of-type {\n",
       "        vertical-align: middle;\n",
       "    }\n",
       "\n",
       "    .dataframe tbody tr th {\n",
       "        vertical-align: top;\n",
       "    }\n",
       "\n",
       "    .dataframe thead th {\n",
       "        text-align: right;\n",
       "    }\n",
       "</style>\n",
       "<table border=\"1\" class=\"dataframe\">\n",
       "  <thead>\n",
       "    <tr style=\"text-align: right;\">\n",
       "      <th></th>\n",
       "      <th>PC1</th>\n",
       "      <th>PC2</th>\n",
       "      <th>target</th>\n",
       "    </tr>\n",
       "  </thead>\n",
       "  <tbody>\n",
       "    <tr>\n",
       "      <th>0</th>\n",
       "      <td>-2.982536</td>\n",
       "      <td>-1.208365</td>\n",
       "      <td>1</td>\n",
       "    </tr>\n",
       "    <tr>\n",
       "      <th>1</th>\n",
       "      <td>0.146967</td>\n",
       "      <td>2.615139</td>\n",
       "      <td>1</td>\n",
       "    </tr>\n",
       "    <tr>\n",
       "      <th>2</th>\n",
       "      <td>2.400269</td>\n",
       "      <td>1.455412</td>\n",
       "      <td>0</td>\n",
       "    </tr>\n",
       "    <tr>\n",
       "      <th>3</th>\n",
       "      <td>1.737284</td>\n",
       "      <td>0.103713</td>\n",
       "      <td>0</td>\n",
       "    </tr>\n",
       "    <tr>\n",
       "      <th>4</th>\n",
       "      <td>-2.322551</td>\n",
       "      <td>0.161960</td>\n",
       "      <td>1</td>\n",
       "    </tr>\n",
       "  </tbody>\n",
       "</table>\n",
       "</div>"
      ],
      "text/plain": [
       "        PC1       PC2  target\n",
       "0 -2.982536 -1.208365       1\n",
       "1  0.146967  2.615139       1\n",
       "2  2.400269  1.455412       0\n",
       "3  1.737284  0.103713       0\n",
       "4 -2.322551  0.161960       1"
      ]
     },
     "execution_count": 170,
     "metadata": {},
     "output_type": "execute_result"
    }
   ],
   "source": [
    "finalDf2 = pd.concat([principalDf2, heartdata[['target']]], axis = 1)\n",
    "finalDf2.head()"
   ]
  },
  {
   "cell_type": "code",
   "execution_count": 171,
   "metadata": {},
   "outputs": [
    {
     "data": {
      "image/png": "[encoded data removed]",
      "text/plain": [
       "<Figure size 360x360 with 1 Axes>"
      ]
     },
     "metadata": {
      "needs_background": "light"
     },
     "output_type": "display_data"
    }
   ],
   "source": [
    "fig = plt.figure(figsize = (5,5))\n",
    "ax = fig.add_subplot(1,1,1) \n",
    "ax.set_xlabel('PC1', fontsize = 15)\n",
    "ax.set_ylabel('PC2', fontsize = 15)\n",
    "ax.set_title('2 component PCA', fontsize = 20)\n",
    "targets = [0, 1]\n",
    "colors = ['b', 'r']\n",
    "for target, color in zip(targets,colors):\n",
    "    indicesToKeep = finalDf2['target'] == target\n",
    "    ax.scatter(finalDf2.loc[indicesToKeep, 'PC1']\n",
    "               , finalDf2.loc[indicesToKeep, 'PC2']\n",
    "               , c = color\n",
    "               , s = 50)\n",
    "ax.legend(targets)\n",
    "ax.grid()"
   ]
  },
  {
   "cell_type": "code",
   "execution_count": 172,
   "metadata": {},
   "outputs": [],
   "source": [
    "#Completely the same - the top 2 pricipal components are in the true numerical \n",
    "#data (age,trestbps,chol,restecg,thalach,oldpeak,slope, ca).\n",
    "#However, added variables cause PC1, PC2  to contribute less to the overall variance "
   ]
  },
  {
   "cell_type": "code",
   "execution_count": 173,
   "metadata": {},
   "outputs": [],
   "source": [
    "from sklearn.decomposition import PCA\n",
    "pca = PCA(n_components=3)\n",
    "principalComponents = pca.fit_transform(x_d)\n",
    "principalDf3 = pd.DataFrame(data = principalComponents, columns = ['PC1', 'PC2', 'PC3'])"
   ]
  },
  {
   "cell_type": "code",
   "execution_count": 174,
   "metadata": {},
   "outputs": [
    {
     "data": {
      "text/plain": [
       "array([0.24981568, 0.12983318, 0.09876902])"
      ]
     },
     "execution_count": 174,
     "metadata": {},
     "output_type": "execute_result"
    }
   ],
   "source": [
    "pca.explained_variance_ratio_"
   ]
  },
  {
   "cell_type": "code",
   "execution_count": 175,
   "metadata": {},
   "outputs": [
    {
     "name": "stdout",
     "output_type": "stream",
     "text": [
      "0.4784178818976405\n"
     ]
    }
   ],
   "source": [
    "print((pca.explained_variance_ratio_).sum())"
   ]
  },
  {
   "cell_type": "code",
   "execution_count": 176,
   "metadata": {},
   "outputs": [],
   "source": [
    "# even with 3 components, less than 50% of variance explained, will run models anyway..."
   ]
  },
  {
   "cell_type": "code",
   "execution_count": 177,
   "metadata": {},
   "outputs": [],
   "source": [
    "from sklearn.ensemble import RandomForestClassifier\n",
    "from sklearn import svm\n",
    "from sklearn.tree import DecisionTreeClassifier\n",
    "from sklearn.neighbors import KNeighborsClassifier\n",
    "from sklearn.linear_model import LogisticRegression\n",
    "from sklearn.ensemble import GradientBoostingClassifier\n",
    "from sklearn.ensemble import AdaBoostClassifier\n",
    "classifiers = []\n",
    "RFmodel = RandomForestClassifier()\n",
    "classifiers.append(RFmodel)\n",
    "SVMmodel = svm.SVC()\n",
    "classifiers.append(SVMmodel)\n",
    "DTmodel = DecisionTreeClassifier()\n",
    "classifiers.append(DTmodel)\n",
    "KNmodel = KNeighborsClassifier(n_neighbors=3)\n",
    "classifiers.append(KNmodel)\n",
    "LRmodel = LogisticRegression()\n",
    "classifiers.append(LRmodel)\n",
    "GBmodel = GradientBoostingClassifier()\n",
    "classifiers.append(GBmodel)\n",
    "ABmodel = AdaBoostClassifier()\n",
    "classifiers.append(ABmodel)"
   ]
  },
  {
   "cell_type": "code",
   "execution_count": 178,
   "metadata": {},
   "outputs": [
    {
     "name": "stderr",
     "output_type": "stream",
     "text": [
      "C:\\Users\\kathy\\Anaconda3\\lib\\site-packages\\sklearn\\ensemble\\forest.py:246: FutureWarning: The default value of n_estimators will change from 10 in version 0.20 to 100 in 0.22.\n",
      "  \"10 in version 0.20 to 100 in 0.22.\", FutureWarning)\n",
      "C:\\Users\\kathy\\Anaconda3\\lib\\site-packages\\sklearn\\svm\\base.py:196: FutureWarning: The default value of gamma will change from 'auto' to 'scale' in version 0.22 to account better for unscaled features. Set gamma explicitly to 'auto' or 'scale' to avoid this warning.\n",
      "  \"avoid this warning.\", FutureWarning)\n",
      "C:\\Users\\kathy\\Anaconda3\\lib\\site-packages\\sklearn\\linear_model\\logistic.py:433: FutureWarning: Default solver will be changed to 'lbfgs' in 0.22. Specify a solver to silence this warning.\n",
      "  FutureWarning)\n"
     ]
    },
    {
     "name": "stdout",
     "output_type": "stream",
     "text": [
      "RandomForestClassifier(bootstrap=True, class_weight=None, criterion='gini',\n",
      "            max_depth=None, max_features='auto', max_leaf_nodes=None,\n",
      "            min_impurity_decrease=0.0, min_impurity_split=None,\n",
      "            min_samples_leaf=1, min_samples_split=2,\n",
      "            min_weight_fraction_leaf=0.0, n_estimators=10, n_jobs=None,\n",
      "            oob_score=False, random_state=None, verbose=0,\n",
      "            warm_start=False)\n",
      "Model score:  0.987603305785124\n",
      "Accuracy:   0.7377049180327869\n",
      "Confusion Matrix: \n",
      "[[17  8]\n",
      " [ 8 28]]\n",
      "\n",
      "SVC(C=1.0, cache_size=200, class_weight=None, coef0=0.0,\n",
      "  decision_function_shape='ovr', degree=3, gamma='auto_deprecated',\n",
      "  kernel='rbf', max_iter=-1, probability=False, random_state=None,\n",
      "  shrinking=True, tol=0.001, verbose=False)\n",
      "Model score:  0.8140495867768595\n",
      "Accuracy:   0.8032786885245902\n",
      "Confusion Matrix: \n",
      "[[17  8]\n",
      " [ 4 32]]\n",
      "\n",
      "DecisionTreeClassifier(class_weight=None, criterion='gini', max_depth=None,\n",
      "            max_features=None, max_leaf_nodes=None,\n",
      "            min_impurity_decrease=0.0, min_impurity_split=None,\n",
      "            min_samples_leaf=1, min_samples_split=2,\n",
      "            min_weight_fraction_leaf=0.0, presort=False, random_state=None,\n",
      "            splitter='best')\n",
      "Model score:  1.0\n",
      "Accuracy:   0.6721311475409836\n",
      "Confusion Matrix: \n",
      "[[15 10]\n",
      " [10 26]]\n",
      "\n",
      "KNeighborsClassifier(algorithm='auto', leaf_size=30, metric='minkowski',\n",
      "           metric_params=None, n_jobs=None, n_neighbors=3, p=2,\n",
      "           weights='uniform')\n",
      "Model score:  0.8553719008264463\n",
      "Accuracy:   0.7540983606557377\n",
      "Confusion Matrix: \n",
      "[[17  8]\n",
      " [ 7 29]]\n",
      "\n",
      "LogisticRegression(C=1.0, class_weight=None, dual=False, fit_intercept=True,\n",
      "          intercept_scaling=1, max_iter=100, multi_class='warn',\n",
      "          n_jobs=None, penalty='l2', random_state=None, solver='warn',\n",
      "          tol=0.0001, verbose=0, warm_start=False)\n",
      "Model score:  0.7933884297520661\n",
      "Accuracy:   0.7868852459016393\n",
      "Confusion Matrix: \n",
      "[[18  7]\n",
      " [ 6 30]]\n",
      "\n",
      "GradientBoostingClassifier(criterion='friedman_mse', init=None,\n",
      "              learning_rate=0.1, loss='deviance', max_depth=3,\n",
      "              max_features=None, max_leaf_nodes=None,\n",
      "              min_impurity_decrease=0.0, min_impurity_split=None,\n",
      "              min_samples_leaf=1, min_samples_split=2,\n",
      "              min_weight_fraction_leaf=0.0, n_estimators=100,\n",
      "              n_iter_no_change=None, presort='auto', random_state=None,\n",
      "              subsample=1.0, tol=0.0001, validation_fraction=0.1,\n",
      "              verbose=0, warm_start=False)\n",
      "Model score:  0.987603305785124\n",
      "Accuracy:   0.7704918032786885\n",
      "Confusion Matrix: \n",
      "[[19  6]\n",
      " [ 8 28]]\n",
      "\n",
      "AdaBoostClassifier(algorithm='SAMME.R', base_estimator=None,\n",
      "          learning_rate=1.0, n_estimators=50, random_state=None)\n",
      "Model score:  0.9297520661157025\n",
      "Accuracy:   0.7540983606557377\n",
      "Confusion Matrix: \n",
      "[[18  7]\n",
      " [ 8 28]]\n",
      "\n"
     ]
    }
   ],
   "source": [
    "# 3 component modeled\n",
    "from sklearn.model_selection import train_test_split\n",
    "X_train, X_test, y_train, y_test = train_test_split(principalDf3, y, test_size=0.2) \n",
    "from sklearn import metrics\n",
    "for i in classifiers:\n",
    "    i.fit(X_train, y_train)\n",
    "    y_pred= i.predict(X_test)\n",
    "    print(i)\n",
    "    print('Model score: ', i.score(X_train, y_train))\n",
    "    print(\"Accuracy:  \", metrics.accuracy_score(y_test, y_pred))\n",
    "    cm = metrics.confusion_matrix(y_test, y_pred)\n",
    "    print(\"Confusion Matrix: \")\n",
    "    print(cm)\n",
    "    print()"
   ]
  },
  {
   "cell_type": "code",
   "execution_count": 179,
   "metadata": {},
   "outputs": [],
   "source": [
    "# Nothing great with 3 components\n",
    "# FIND COMPONENTS THAT EXPLAIN 95% OF VARIANCE AND THEN SCOUT MODELS"
   ]
  },
  {
   "cell_type": "code",
   "execution_count": 180,
   "metadata": {},
   "outputs": [],
   "source": [
    "pca = PCA(.95)"
   ]
  },
  {
   "cell_type": "code",
   "execution_count": 181,
   "metadata": {},
   "outputs": [],
   "source": [
    "new_x = pca.fit_transform(x_d)"
   ]
  },
  {
   "cell_type": "code",
   "execution_count": 182,
   "metadata": {},
   "outputs": [
    {
     "data": {
      "text/plain": [
       "12"
      ]
     },
     "execution_count": 182,
     "metadata": {},
     "output_type": "execute_result"
    }
   ],
   "source": [
    "pca.n_components_ "
   ]
  },
  {
   "cell_type": "code",
   "execution_count": 183,
   "metadata": {},
   "outputs": [],
   "source": [
    "#Based on 2 component visualization - there is obviously 2 clusters but with significant overlap\n",
    "#the 2 component and 3 component analysis preserved less than 50% \n",
    "#It takes 12 components to preserve 95% of the variance...\n",
    "#Because of this and because we are working with a small data set, while I will scout models with PCA(95% var) dataset, \n",
    "#I will likely optimize models with dataset from Data transformation and scouting NB\n",
    "#... I gut is that PCA data reduction isn't real helpful in this case... we shall see...."
   ]
  },
  {
   "cell_type": "code",
   "execution_count": null,
   "metadata": {},
   "outputs": [],
   "source": []
  },
  {
   "cell_type": "code",
   "execution_count": 184,
   "metadata": {},
   "outputs": [],
   "source": [
    "#PREPARING PC DATAFRAME, TEST SET HOLDOUT, AND DATA SET FOR SCOUTING MODELS AND OPTIMIZING\n",
    "pc12df = pd.DataFrame(data = new_x, columns = ['PC1', 'PC2', 'PC3', 'PC4', 'PC5', 'PC6','PC7', 'PC8', 'PC9','PC10', 'PC11', 'PC12'])\n",
    "pc12df.head()\n",
    "\n",
    "FinalDF = pd.concat([pc12df, heartdata[['target']]], axis = 1)\n",
    "FinalDF.head()\n",
    "\n",
    "testDFholdoutDF = FinalDF.tail(20)\n",
    "X_testHO = testDFholdoutDF.drop('target', axis =1)\n",
    "y_testHO = testDFholdoutDF['target']\n",
    "\n",
    "train_val_DF = FinalDF.head(283)\n",
    "X_tv = train_val_DF.drop('target', axis=1)\n",
    "y_tv = train_val_DF['target']"
   ]
  },
  {
   "cell_type": "code",
   "execution_count": 185,
   "metadata": {},
   "outputs": [
    {
     "name": "stdout",
     "output_type": "stream",
     "text": [
      "RandomForestClassifier(bootstrap=True, class_weight=None, criterion='gini',\n",
      "            max_depth=None, max_features='auto', max_leaf_nodes=None,\n",
      "            min_impurity_decrease=0.0, min_impurity_split=None,\n",
      "            min_samples_leaf=1, min_samples_split=2,\n",
      "            min_weight_fraction_leaf=0.0, n_estimators=10, n_jobs=None,\n",
      "            oob_score=False, random_state=None, verbose=0,\n",
      "            warm_start=False)\n",
      "Model score:  0.995575221238938\n",
      "Accuracy:   0.6140350877192983\n",
      "Confusion Matrix: \n",
      "[[10 10]\n",
      " [12 25]]\n",
      "\n",
      "SVC(C=1.0, cache_size=200, class_weight=None, coef0=0.0,\n",
      "  decision_function_shape='ovr', degree=3, gamma='auto_deprecated',\n",
      "  kernel='rbf', max_iter=-1, probability=False, random_state=None,\n",
      "  shrinking=True, tol=0.001, verbose=False)\n",
      "Model score:  0.915929203539823\n",
      "Accuracy:   0.7719298245614035\n",
      "Confusion Matrix: \n",
      "[[12  8]\n",
      " [ 5 32]]\n",
      "\n",
      "DecisionTreeClassifier(class_weight=None, criterion='gini', max_depth=None,\n",
      "            max_features=None, max_leaf_nodes=None,\n",
      "            min_impurity_decrease=0.0, min_impurity_split=None,\n",
      "            min_samples_leaf=1, min_samples_split=2,\n",
      "            min_weight_fraction_leaf=0.0, presort=False, random_state=None,\n",
      "            splitter='best')\n",
      "Model score:  1.0\n",
      "Accuracy:   0.7368421052631579\n",
      "Confusion Matrix: \n",
      "[[11  9]\n",
      " [ 6 31]]\n",
      "\n",
      "KNeighborsClassifier(algorithm='auto', leaf_size=30, metric='minkowski',\n",
      "           metric_params=None, n_jobs=None, n_neighbors=3, p=2,\n",
      "           weights='uniform')\n",
      "Model score:  0.8893805309734514\n",
      "Accuracy:   0.7543859649122807\n",
      "Confusion Matrix: \n",
      "[[12  8]\n",
      " [ 6 31]]\n",
      "\n",
      "LogisticRegression(C=1.0, class_weight=None, dual=False, fit_intercept=True,\n",
      "          intercept_scaling=1, max_iter=100, multi_class='warn',\n",
      "          n_jobs=None, penalty='l2', random_state=None, solver='warn',\n",
      "          tol=0.0001, verbose=0, warm_start=False)\n",
      "Model score:  0.8716814159292036\n",
      "Accuracy:   0.8070175438596491\n",
      "Confusion Matrix: \n",
      "[[14  6]\n",
      " [ 5 32]]\n",
      "\n",
      "GradientBoostingClassifier(criterion='friedman_mse', init=None,\n",
      "              learning_rate=0.1, loss='deviance', max_depth=3,\n",
      "              max_features=None, max_leaf_nodes=None,\n",
      "              min_impurity_decrease=0.0, min_impurity_split=None,\n",
      "              min_samples_leaf=1, min_samples_split=2,\n",
      "              min_weight_fraction_leaf=0.0, n_estimators=100,\n",
      "              n_iter_no_change=None, presort='auto', random_state=None,\n",
      "              subsample=1.0, tol=0.0001, validation_fraction=0.1,\n",
      "              verbose=0, warm_start=False)"
     ]
    },
    {
     "name": "stderr",
     "output_type": "stream",
     "text": [
      "C:\\Users\\kathy\\Anaconda3\\lib\\site-packages\\sklearn\\svm\\base.py:196: FutureWarning: The default value of gamma will change from 'auto' to 'scale' in version 0.22 to account better for unscaled features. Set gamma explicitly to 'auto' or 'scale' to avoid this warning.\n",
      "  \"avoid this warning.\", FutureWarning)\n",
      "C:\\Users\\kathy\\Anaconda3\\lib\\site-packages\\sklearn\\linear_model\\logistic.py:433: FutureWarning: Default solver will be changed to 'lbfgs' in 0.22. Specify a solver to silence this warning.\n",
      "  FutureWarning)\n"
     ]
    },
    {
     "name": "stdout",
     "output_type": "stream",
     "text": [
      "\n",
      "Model score:  1.0\n",
      "Accuracy:   0.7192982456140351\n",
      "Confusion Matrix: \n",
      "[[13  7]\n",
      " [ 9 28]]\n",
      "\n",
      "AdaBoostClassifier(algorithm='SAMME.R', base_estimator=None,\n",
      "          learning_rate=1.0, n_estimators=50, random_state=None)\n",
      "Model score:  1.0\n",
      "Accuracy:   0.7368421052631579\n",
      "Confusion Matrix: \n",
      "[[14  6]\n",
      " [ 9 28]]\n",
      "\n"
     ]
    }
   ],
   "source": [
    "# 12 components - model scouting \n",
    "Xtrain, Xval, ytrain, yval = train_test_split(X_tv, y_tv, test_size=0.2)\n",
    "for i in classifiers:\n",
    "    i.fit(Xtrain, ytrain)\n",
    "    ypred= i.predict(Xval)\n",
    "    print((i))\n",
    "    print('Model score: ', i.score(Xtrain, ytrain))\n",
    "    print(\"Accuracy:  \", metrics.accuracy_score(yval, ypred))\n",
    "    cm = metrics.confusion_matrix(yval, ypred)\n",
    "    print(\"Confusion Matrix: \")\n",
    "    print(cm)\n",
    "    print()"
   ]
  },
  {
   "cell_type": "code",
   "execution_count": 186,
   "metadata": {},
   "outputs": [],
   "source": [
    "#Well - this worked pretty well!!!! Even overfit RF, DT, etc have OK scores \n",
    "#will work on optimize a select group for low false negatives\n",
    "#CROSS-VALIDATION BELOW\n"
   ]
  },
  {
   "cell_type": "code",
   "execution_count": 187,
   "metadata": {},
   "outputs": [
    {
     "name": "stdout",
     "output_type": "stream",
     "text": [
      "RandomForestClassifier(bootstrap=True, class_weight=None, criterion='gini',\n",
      "            max_depth=None, max_features='auto', max_leaf_nodes=None,\n",
      "            min_impurity_decrease=0.0, min_impurity_split=None,\n",
      "            min_samples_leaf=1, min_samples_split=2,\n",
      "            min_weight_fraction_leaf=0.0, n_estimators=10, n_jobs=None,\n",
      "            oob_score=False, random_state=None, verbose=0,\n",
      "            warm_start=False)\n",
      "Accuracy: 0.80 (+/- 0.12)\n",
      "\n",
      "SVC(C=1.0, cache_size=200, class_weight=None, coef0=0.0,\n",
      "  decision_function_shape='ovr', degree=3, gamma='auto_deprecated',\n",
      "  kernel='rbf', max_iter=-1, probability=False, random_state=None,\n",
      "  shrinking=True, tol=0.001, verbose=False)\n",
      "Accuracy: 0.85 (+/- 0.11)\n",
      "\n",
      "DecisionTreeClassifier(class_weight=None, criterion='gini', max_depth=None,\n",
      "            max_features=None, max_leaf_nodes=None,\n",
      "            min_impurity_decrease=0.0, min_impurity_split=None,\n",
      "            min_samples_leaf=1, min_samples_split=2,\n",
      "            min_weight_fraction_leaf=0.0, presort=False, random_state=None,\n",
      "            splitter='best')\n",
      "Accuracy: 0.80 (+/- 0.12)\n",
      "\n",
      "KNeighborsClassifier(algorithm='auto', leaf_size=30, metric='minkowski',\n",
      "           metric_params=None, n_jobs=None, n_neighbors=3, p=2,\n",
      "           weights='uniform')\n",
      "Accuracy: 0.83 (+/- 0.11)\n",
      "\n",
      "LogisticRegression(C=1.0, class_weight=None, dual=False, fit_intercept=True,\n",
      "          intercept_scaling=1, max_iter=100, multi_class='warn',\n",
      "          n_jobs=None, penalty='l2', random_state=None, solver='warn',\n",
      "          tol=0.0001, verbose=0, warm_start=False)\n",
      "Accuracy: 0.86 (+/- 0.09)\n",
      "\n"
     ]
    },
    {
     "name": "stderr",
     "output_type": "stream",
     "text": [
      "C:\\Users\\kathy\\Anaconda3\\lib\\site-packages\\sklearn\\svm\\base.py:196: FutureWarning: The default value of gamma will change from 'auto' to 'scale' in version 0.22 to account better for unscaled features. Set gamma explicitly to 'auto' or 'scale' to avoid this warning.\n",
      "  \"avoid this warning.\", FutureWarning)\n",
      "C:\\Users\\kathy\\Anaconda3\\lib\\site-packages\\sklearn\\svm\\base.py:196: FutureWarning: The default value of gamma will change from 'auto' to 'scale' in version 0.22 to account better for unscaled features. Set gamma explicitly to 'auto' or 'scale' to avoid this warning.\n",
      "  \"avoid this warning.\", FutureWarning)\n",
      "C:\\Users\\kathy\\Anaconda3\\lib\\site-packages\\sklearn\\svm\\base.py:196: FutureWarning: The default value of gamma will change from 'auto' to 'scale' in version 0.22 to account better for unscaled features. Set gamma explicitly to 'auto' or 'scale' to avoid this warning.\n",
      "  \"avoid this warning.\", FutureWarning)\n",
      "C:\\Users\\kathy\\Anaconda3\\lib\\site-packages\\sklearn\\svm\\base.py:196: FutureWarning: The default value of gamma will change from 'auto' to 'scale' in version 0.22 to account better for unscaled features. Set gamma explicitly to 'auto' or 'scale' to avoid this warning.\n",
      "  \"avoid this warning.\", FutureWarning)\n",
      "C:\\Users\\kathy\\Anaconda3\\lib\\site-packages\\sklearn\\svm\\base.py:196: FutureWarning: The default value of gamma will change from 'auto' to 'scale' in version 0.22 to account better for unscaled features. Set gamma explicitly to 'auto' or 'scale' to avoid this warning.\n",
      "  \"avoid this warning.\", FutureWarning)\n",
      "C:\\Users\\kathy\\Anaconda3\\lib\\site-packages\\sklearn\\linear_model\\logistic.py:433: FutureWarning: Default solver will be changed to 'lbfgs' in 0.22. Specify a solver to silence this warning.\n",
      "  FutureWarning)\n",
      "C:\\Users\\kathy\\Anaconda3\\lib\\site-packages\\sklearn\\linear_model\\logistic.py:433: FutureWarning: Default solver will be changed to 'lbfgs' in 0.22. Specify a solver to silence this warning.\n",
      "  FutureWarning)\n",
      "C:\\Users\\kathy\\Anaconda3\\lib\\site-packages\\sklearn\\linear_model\\logistic.py:433: FutureWarning: Default solver will be changed to 'lbfgs' in 0.22. Specify a solver to silence this warning.\n",
      "  FutureWarning)\n",
      "C:\\Users\\kathy\\Anaconda3\\lib\\site-packages\\sklearn\\linear_model\\logistic.py:433: FutureWarning: Default solver will be changed to 'lbfgs' in 0.22. Specify a solver to silence this warning.\n",
      "  FutureWarning)\n",
      "C:\\Users\\kathy\\Anaconda3\\lib\\site-packages\\sklearn\\linear_model\\logistic.py:433: FutureWarning: Default solver will be changed to 'lbfgs' in 0.22. Specify a solver to silence this warning.\n",
      "  FutureWarning)\n"
     ]
    },
    {
     "name": "stdout",
     "output_type": "stream",
     "text": [
      "GradientBoostingClassifier(criterion='friedman_mse', init=None,\n",
      "              learning_rate=0.1, loss='deviance', max_depth=3,\n",
      "              max_features=None, max_leaf_nodes=None,\n",
      "              min_impurity_decrease=0.0, min_impurity_split=None,\n",
      "              min_samples_leaf=1, min_samples_split=2,\n",
      "              min_weight_fraction_leaf=0.0, n_estimators=100,\n",
      "              n_iter_no_change=None, presort='auto', random_state=None,\n",
      "              subsample=1.0, tol=0.0001, validation_fraction=0.1,\n",
      "              verbose=0, warm_start=False)\n",
      "Accuracy: 0.84 (+/- 0.07)\n",
      "\n",
      "AdaBoostClassifier(algorithm='SAMME.R', base_estimator=None,\n",
      "          learning_rate=1.0, n_estimators=50, random_state=None)\n",
      "Accuracy: 0.82 (+/- 0.15)\n",
      "\n"
     ]
    }
   ],
   "source": [
    "from sklearn.model_selection import cross_val_score\n",
    "from sklearn.model_selection import StratifiedKFold\n",
    "for i in classifiers:\n",
    "    scores = cross_val_score(i, Xtrain, ytrain, cv=5)\n",
    "    scores\n",
    "    print(i)\n",
    "    print(\"Accuracy: %0.2f (+/- %0.2f)\" % (scores.mean(), scores.std() * 2))\n",
    "    print()"
   ]
  },
  {
   "cell_type": "code",
   "execution_count": 188,
   "metadata": {},
   "outputs": [],
   "source": [
    "#WILL \"TUNE\" LOGISTIC REGRESSION AND GRADIENTBOOST  dual=[True,False]"
   ]
  },
  {
   "cell_type": "code",
   "execution_count": 189,
   "metadata": {},
   "outputs": [
    {
     "name": "stdout",
     "output_type": "stream",
     "text": [
      "Best: 0.862832 using {'C': 0.5, 'max_iter': 200, 'penalty': 'l1', 'solver': 'warn'}\n"
     ]
    },
    {
     "name": "stderr",
     "output_type": "stream",
     "text": [
      "C:\\Users\\kathy\\Anaconda3\\lib\\site-packages\\sklearn\\model_selection\\_search.py:841: DeprecationWarning: The default of the `iid` parameter will change from True to False in version 0.22 and will be removed in 0.24. This will change numeric results when test-set sizes are unequal.\n",
      "  DeprecationWarning)\n",
      "C:\\Users\\kathy\\Anaconda3\\lib\\site-packages\\sklearn\\linear_model\\logistic.py:433: FutureWarning: Default solver will be changed to 'lbfgs' in 0.22. Specify a solver to silence this warning.\n",
      "  FutureWarning)\n"
     ]
    }
   ],
   "source": [
    "#Tuning\n",
    "from sklearn.model_selection import GridSearchCV\n",
    "from sklearn.model_selection import RandomizedSearchCV\n",
    "\n",
    "lr = LogisticRegression()\n",
    "\n",
    "max_iter=[200, 300, 500, 1000]\n",
    "C = [0.01, 0.05, 0.1, 0.5, 1, 10]\n",
    "solver = ['warn', 'liblinear']\n",
    "penalty = ['l1', 'l2']\n",
    "param_grid = dict(max_iter=max_iter, C=C, solver=solver, penalty = penalty)\n",
    "grid = GridSearchCV(estimator=lr, param_grid=param_grid, cv = 5, n_jobs=-1)\n",
    "\n",
    "\n",
    "grid_result = grid.fit(Xtrain, ytrain)\n",
    "# Summarize results\n",
    "print(\"Best: %f using %s\" % (grid_result.best_score_, grid_result.best_params_))"
   ]
  },
  {
   "cell_type": "code",
   "execution_count": 190,
   "metadata": {},
   "outputs": [
    {
     "name": "stdout",
     "output_type": "stream",
     "text": [
      "Prediction with a validation set using OptLR\n",
      "Model score:  0.8628318584070797\n",
      "Accuracy:   0.8070175438596491\n",
      "Confusion Matrix: \n",
      "[[14  6]\n",
      " [ 5 32]]\n",
      "\n"
     ]
    },
    {
     "name": "stderr",
     "output_type": "stream",
     "text": [
      "C:\\Users\\kathy\\Anaconda3\\lib\\site-packages\\sklearn\\linear_model\\logistic.py:433: FutureWarning: Default solver will be changed to 'lbfgs' in 0.22. Specify a solver to silence this warning.\n",
      "  FutureWarning)\n"
     ]
    }
   ],
   "source": [
    "#Save new LR parameters, fit to training set, and run with validation set\n",
    "Optlr = LogisticRegression(solver = 'warn', penalty = 'l2', max_iter = 200, C = 0.05)\n",
    "Optlr.fit(Xtrain, ytrain)\n",
    "ypred= Optlr.predict(Xval)\n",
    "print('Prediction with a validation set using OptLR')\n",
    "print('Model score: ', Optlr.score(Xtrain, ytrain))\n",
    "print('Accuracy:  ', metrics.accuracy_score(yval, ypred))\n",
    "cm = metrics.confusion_matrix(yval, ypred)\n",
    "print(\"Confusion Matrix: \")\n",
    "print(cm)\n",
    "print()"
   ]
  },
  {
   "cell_type": "code",
   "execution_count": 191,
   "metadata": {},
   "outputs": [
    {
     "name": "stderr",
     "output_type": "stream",
     "text": [
      "C:\\Users\\kathy\\Anaconda3\\lib\\site-packages\\sklearn\\linear_model\\logistic.py:433: FutureWarning: Default solver will be changed to 'lbfgs' in 0.22. Specify a solver to silence this warning.\n",
      "  FutureWarning)\n",
      "C:\\Users\\kathy\\Anaconda3\\lib\\site-packages\\sklearn\\linear_model\\logistic.py:433: FutureWarning: Default solver will be changed to 'lbfgs' in 0.22. Specify a solver to silence this warning.\n",
      "  FutureWarning)\n",
      "C:\\Users\\kathy\\Anaconda3\\lib\\site-packages\\sklearn\\linear_model\\logistic.py:433: FutureWarning: Default solver will be changed to 'lbfgs' in 0.22. Specify a solver to silence this warning.\n",
      "  FutureWarning)\n"
     ]
    },
    {
     "name": "stdout",
     "output_type": "stream",
     "text": [
      "Cross Validation of partially optimized Logistic regression\n",
      "Accuracy: 0.85 (+/- 0.11)\n",
      "LogisticRegression(C=0.05, class_weight=None, dual=False, fit_intercept=True,\n",
      "          intercept_scaling=1, max_iter=200, multi_class='warn',\n",
      "          n_jobs=None, penalty='l2', random_state=None, solver='warn',\n",
      "          tol=0.0001, verbose=0, warm_start=False)\n"
     ]
    },
    {
     "name": "stderr",
     "output_type": "stream",
     "text": [
      "C:\\Users\\kathy\\Anaconda3\\lib\\site-packages\\sklearn\\linear_model\\logistic.py:433: FutureWarning: Default solver will be changed to 'lbfgs' in 0.22. Specify a solver to silence this warning.\n",
      "  FutureWarning)\n",
      "C:\\Users\\kathy\\Anaconda3\\lib\\site-packages\\sklearn\\linear_model\\logistic.py:433: FutureWarning: Default solver will be changed to 'lbfgs' in 0.22. Specify a solver to silence this warning.\n",
      "  FutureWarning)\n"
     ]
    }
   ],
   "source": [
    "#Will also cross-validation with Optimized parameters\n",
    "from sklearn.model_selection import cross_val_score\n",
    "scores = cross_val_score(Optlr, Xtrain, ytrain, cv=5)\n",
    "print('Cross Validation of partially optimized Logistic regression')\n",
    "print(\"Accuracy: %0.2f (+/- %0.2f)\" % (scores.mean(), scores.std() * 2))\n",
    "print(Optlr)"
   ]
  },
  {
   "cell_type": "code",
   "execution_count": 192,
   "metadata": {},
   "outputs": [],
   "source": [
    "from sklearn.metrics import roc_curve, roc_auc_score\n",
    "#Compute false and true positive rates\n",
    "fpr, tpr,_=roc_curve(Optlr.predict(Xtrain), ytrain, drop_intermediate=False)\n"
   ]
  },
  {
   "cell_type": "code",
   "execution_count": 193,
   "metadata": {},
   "outputs": [
    {
     "data": {
      "image/png": "[encoded data removed]",
      "text/plain": [
       "<Figure size 432x288 with 1 Axes>"
      ]
     },
     "metadata": {
      "needs_background": "light"
     },
     "output_type": "display_data"
    }
   ],
   "source": [
    "plt.figure()\n",
    "#ROC\n",
    "plt.plot(fpr, tpr, color='red', lw=2, label='ROC curve')\n",
    "plt.plot([0, 1], [0, 1], color='blue', lw=2, linestyle='--')\n",
    "plt.xlabel('FPR')\n",
    "plt.ylabel('TPR')\n",
    "plt.title('ROC curve')\n",
    "plt.show()"
   ]
  },
  {
   "cell_type": "code",
   "execution_count": 194,
   "metadata": {},
   "outputs": [
    {
     "name": "stdout",
     "output_type": "stream",
     "text": [
      "ROCAUC score: 0.8645635673624288\n"
     ]
    }
   ],
   "source": [
    "print('ROCAUC score:', roc_auc_score(Optlr.predict(Xtrain), ytrain))"
   ]
  },
  {
   "cell_type": "code",
   "execution_count": 195,
   "metadata": {},
   "outputs": [
    {
     "name": "stdout",
     "output_type": "stream",
     "text": [
      "              precision    recall  f1-score   support\n",
      "\n",
      "           0       0.74      0.70      0.72        20\n",
      "           1       0.84      0.86      0.85        37\n",
      "\n",
      "   micro avg       0.81      0.81      0.81        57\n",
      "   macro avg       0.79      0.78      0.79        57\n",
      "weighted avg       0.81      0.81      0.81        57\n",
      "\n"
     ]
    }
   ],
   "source": [
    "from sklearn.metrics import classification_report\n",
    "ypred = Optlr.predict(Xval)\n",
    "print(classification_report(yval, ypred))"
   ]
  },
  {
   "cell_type": "code",
   "execution_count": 196,
   "metadata": {},
   "outputs": [
    {
     "name": "stdout",
     "output_type": "stream",
     "text": [
      "(226, 2)\n"
     ]
    },
    {
     "name": "stderr",
     "output_type": "stream",
     "text": [
      "No handles with labels found to put in legend.\n"
     ]
    },
    {
     "data": {
      "image/png": "[encoded data removed]",
      "text/plain": [
       "<Figure size 720x720 with 1 Axes>"
      ]
     },
     "metadata": {
      "needs_background": "light"
     },
     "output_type": "display_data"
    }
   ],
   "source": [
    "#plot Decision boundary based on training data\n",
    "yseries = pd.Series(ytrain)\n",
    "y4color = np.array(yseries)\n",
    "\n",
    "probs = Optlr.predict_proba(Xtrain)\n",
    "print(probs.shape)\n",
    "probzero = probs[:, 0]\n",
    "\n",
    "x = len(probzero)\n",
    "xx = [i for i in range(0, x)]\n",
    "\n",
    "import matplotlib\n",
    "\n",
    "y = probzero\n",
    "label = y4color\n",
    "colors = ['red','green']\n",
    "fig = plt.figure(figsize=(10,10))\n",
    "plt.scatter(xx, y, c=label, cmap=matplotlib.colors.ListedColormap(colors))\n",
    "plt.plot([0, x], [0.5, 0.5], color='blue', lw=2, linestyle='--')\n",
    "\n",
    "loc = np.arange(0,max(label),max(label)/float(len(colors)))\n",
    "plt.xlabel('n')\n",
    "plt.ylabel('Predicted Probabiltiy')\n",
    "plt.title('Current Decision Boundary')\n",
    "plt.legend()\n",
    "plt.show()"
   ]
  },
  {
   "cell_type": "code",
   "execution_count": 197,
   "metadata": {},
   "outputs": [
    {
     "name": "stderr",
     "output_type": "stream",
     "text": [
      "No handles with labels found to put in legend.\n"
     ]
    },
    {
     "name": "stdout",
     "output_type": "stream",
     "text": [
      "(57, 2)\n"
     ]
    },
    {
     "data": {
      "image/png": "[encoded data removed]",
      "text/plain": [
       "<Figure size 720x720 with 1 Axes>"
      ]
     },
     "metadata": {
      "needs_background": "light"
     },
     "output_type": "display_data"
    }
   ],
   "source": [
    "#plot Decision boundary based on validation data\n",
    "yseries = pd.Series(yval)\n",
    "y4color = np.array(yseries)\n",
    "\n",
    "probs = Optlr.predict_proba(Xval)\n",
    "print(probs.shape)\n",
    "probzero = probs[:, 0]\n",
    "\n",
    "x = len(probzero)\n",
    "xx = [i for i in range(0, x)]\n",
    "\n",
    "import matplotlib\n",
    "\n",
    "y = probzero\n",
    "label = y4color\n",
    "colors = ['red','green']\n",
    "fig = plt.figure(figsize=(10,10))\n",
    "plt.scatter(xx, y, c=label, cmap=matplotlib.colors.ListedColormap(colors))\n",
    "plt.plot([0, x], [0.5, 0.5], color='blue', lw=2, linestyle='--')\n",
    "\n",
    "loc = np.arange(0,max(label),max(label)/float(len(colors)))\n",
    "plt.xlabel('n')\n",
    "plt.ylabel('Predicted Probabiltiy')\n",
    "plt.title('Current Decision Boundary')\n",
    "plt.legend()\n",
    "plt.show()"
   ]
  },
  {
   "cell_type": "code",
   "execution_count": 198,
   "metadata": {},
   "outputs": [
    {
     "name": "stdout",
     "output_type": "stream",
     "text": [
      "Prediction with Holdout test set using OptLR\n",
      "Model score:  0.8692579505300353\n",
      "Accuracy:   0.75\n",
      "Confusion Matrix: \n",
      "[[6 3]\n",
      " [2 9]]\n",
      "\n"
     ]
    },
    {
     "name": "stderr",
     "output_type": "stream",
     "text": [
      "C:\\Users\\kathy\\Anaconda3\\lib\\site-packages\\sklearn\\linear_model\\logistic.py:433: FutureWarning: Default solver will be changed to 'lbfgs' in 0.22. Specify a solver to silence this warning.\n",
      "  FutureWarning)\n"
     ]
    }
   ],
   "source": [
    "#Fit on all but holdout and then test\n",
    "Optlr.fit(X_tv, y_tv)\n",
    "ypred= Optlr.predict(X_testHO)\n",
    "print('Prediction with Holdout test set using OptLR')\n",
    "print('Model score: ', Optlr.score(X_tv, y_tv))\n",
    "print('Accuracy:  ', metrics.accuracy_score(y_testHO, ypred))\n",
    "cm = metrics.confusion_matrix(y_testHO, ypred)\n",
    "print(\"Confusion Matrix: \")\n",
    "print(cm)\n",
    "print()"
   ]
  },
  {
   "cell_type": "code",
   "execution_count": 202,
   "metadata": {},
   "outputs": [
    {
     "name": "stdout",
     "output_type": "stream",
     "text": [
      "(20, 2)\n"
     ]
    },
    {
     "data": {
      "image/png": "[encoded data removed]",
      "text/plain": [
       "<Figure size 720x720 with 1 Axes>"
      ]
     },
     "metadata": {
      "needs_background": "light"
     },
     "output_type": "display_data"
    }
   ],
   "source": [
    "#plot decision boundary on unseen data\n",
    "yseries = pd.Series(y_testHO)\n",
    "y4color = np.array(yseries)\n",
    "\n",
    "probs = Optlr.predict_proba(X_testHO)\n",
    "print(probs.shape)\n",
    "probzero = probs[:, 0]\n",
    "\n",
    "x = len(probzero)\n",
    "xx = [i for i in range(0, x)]\n",
    "\n",
    "import matplotlib\n",
    "\n",
    "y = probzero\n",
    "label = y4color\n",
    "colors = ['red','green']\n",
    "fig = plt.figure(figsize=(10,10))\n",
    "plt.scatter(xx, y, c=label, cmap=matplotlib.colors.ListedColormap(colors))\n",
    "plt.plot([0, x], [0.5, 0.5], color='blue', lw=2, linestyle='--')\n",
    "\n",
    "loc = np.arange(0,max(label),max(label)/float(len(colors)))\n",
    "plt.xlabel('n')\n",
    "plt.ylabel('Predicted Probabiltiy')\n",
    "plt.title('Current Decision Boundary')\n",
    "plt.legend()\n",
    "plt.show()"
   ]
  },
  {
   "cell_type": "code",
   "execution_count": 200,
   "metadata": {},
   "outputs": [],
   "source": [
    "import pickle\n",
    "FinalLR = 'finalized_model.sav'\n",
    "pickle.dump(Optlr, open(FinalLR, 'wb'))"
   ]
  },
  {
   "cell_type": "code",
   "execution_count": 201,
   "metadata": {},
   "outputs": [],
   "source": [
    "#If possible move probability threshold to about 0.35 to minimize false negatives!!"
   ]
  },
  {
   "cell_type": "code",
   "execution_count": null,
   "metadata": {},
   "outputs": [],
   "source": [
    "def plot_decision_boundary(trues, falses):\n",
    "    fig = plt.figure()\n",
    "    ax = fig.add_subplot(111)\n",
    "\n",
    "    no_of_preds = len(trues) + len(falses)\n",
    "\n",
    "    ax.scatter([i for i in range(len(trues))], trues, s=25, c='b', marker=\"o\", label='Trues')\n",
    "    ax.scatter([i for i in range(len(falses))], falses, s=25, c='r', marker=\"s\", label='Falses')\n",
    "\n",
    "    plt.legend(loc='upper right');\n",
    "    ax.set_title(\"Decision Boundary\")\n",
    "    ax.set_xlabel('N/2')\n",
    "    ax.set_ylabel('Predicted Probability')\n",
    "    plt.axhline(.5, color='black')\n",
    "    plt.show()"
   ]
  },
  {
   "cell_type": "code",
   "execution_count": null,
   "metadata": {},
   "outputs": [],
   "source": [
    "#EXPLORE GRADIENTBOOSTING"
   ]
  },
  {
   "cell_type": "code",
   "execution_count": null,
   "metadata": {},
   "outputs": [],
   "source": [
    "#Optimize pamameters Random and Grid searches"
   ]
  },
  {
   "cell_type": "code",
   "execution_count": null,
   "metadata": {},
   "outputs": [],
   "source": [
    "gb01= GradientBoostingClassifier()\n",
    "learning_rate =[0.05, 0.1, 0.15, 0.2, 0.25, 0.3, 0.35, 0.4]\n",
    "n_estimators = [10, 20, 30, 40, 50, 60, 70]\n",
    "max_depth =[2, 3, 4, 5]\n",
    "max_features = ['auto', None]\n",
    "min_samples_split = [2, 3, 4, 6, 8, 10, 12]\n",
    "\n",
    "param_grid = dict(max_depth = max_depth, max_features = max_features, min_samples_split = min_samples_split, learning_rate = learning_rate, n_estimators = n_estimators)\n",
    "random = RandomizedSearchCV(estimator=gb01, param_distributions=param_grid, cv = None)\n",
    "\n",
    "random_result = random.fit(X_tv, y_tv)\n",
    "print(\"Best: %f using %s\" % (random_result.best_score_, random_result.best_params_))"
   ]
  },
  {
   "cell_type": "code",
   "execution_count": null,
   "metadata": {},
   "outputs": [],
   "source": [
    "gb02= GradientBoostingClassifier()\n",
    "learning_rate =[0.05, 0.1, 0.15, 0.2, 0.25, 0.3, 0.35, 0.4]\n",
    "n_estimators = [10, 20, 30, 40, 50, 60, 70]\n",
    "max_depth =[2, 3, 4, 5]\n",
    "max_features = ['auto', None]\n",
    "min_samples_split = [2, 3, 4, 6, 8, 10, 12]\n",
    "\n",
    "param_grid = dict(max_depth = max_depth, max_features = max_features, min_samples_split = min_samples_split, learning_rate = learning_rate, n_estimators = n_estimators)\n",
    "grid = GridSearchCV(estimator=gb02, param_grid=param_grid, cv = 5)\n",
    "\n",
    "\n",
    "grid_result = grid.fit(X_tv, y_tv)\n",
    "print(\"Best: %f using %s\" % (grid_result.best_score_, grid_result.best_params_))"
   ]
  },
  {
   "cell_type": "code",
   "execution_count": null,
   "metadata": {},
   "outputs": [],
   "source": [
    "#Cross- validation with Optimized parameters\n",
    "Optgb = GradientBoostingClassifier(max_depth = 2, max_features = 'auto', min_samples_split = 12, learning_rate = 0.35, n_estimators = 50)\n",
    "scores = cross_val_score(Optgb, X_tv, y_tv, cv=10)\n",
    "print('Cross Validation of partially optimized Logistic regression')\n",
    "print(\"Accuracy: %0.2f (+/- %0.2f)\" % (scores.mean(), scores.std() * 2))"
   ]
  },
  {
   "cell_type": "code",
   "execution_count": null,
   "metadata": {},
   "outputs": [],
   "source": [
    "Optgb = GradientBoostingClassifier(max_depth = 2, max_features = 'auto', min_samples_split = 4, learning_rate = 0.3, n_estimators = 20)\n",
    "Optgb.fit(X_tv, y_tv)\n",
    "ypred= Optgb.predict(X_testHO)\n",
    "print('Prediction with Holdout test set using Optgb')\n",
    "print('Model score: ', Optgb.score(X_tv, y_tv))\n",
    "print('Accuracy:  ', metrics.accuracy_score(y_testHO, ypred))\n",
    "cm = metrics.confusion_matrix(y_testHO, ypred)\n",
    "print(\"Confusion Matrix: \")\n",
    "print(cm)\n",
    "print()"
   ]
  },
  {
   "cell_type": "code",
   "execution_count": null,
   "metadata": {},
   "outputs": [],
   "source": [
    "import pickle\n",
    "FinalGB = 'finalized_model.sav'\n",
    "pickle.dump(Optgb, open(FinalGB, 'wb'))"
   ]
  },
  {
   "cell_type": "code",
   "execution_count": null,
   "metadata": {},
   "outputs": [],
   "source": [
    "#Two good models found - will work on present and submit by July 7, 2019\n",
    "May work with other models if time permits"
   ]
  },
  {
   "cell_type": "code",
   "execution_count": null,
   "metadata": {},
   "outputs": [],
   "source": [
    "#Well - this worked pretty well!!!! Principal Conponents modeled with logistic Regression!!!!\n",
    "#except false negatives higher than I'd like - thinking about trying this as my model but changing \n",
    "#the \"probability balance\" (don't know what its called) so false neg minimize \n",
    "svm.SVC?\n",
    "print(svm.SVC())"
   ]
  },
  {
   "cell_type": "code",
   "execution_count": null,
   "metadata": {},
   "outputs": [],
   "source": [
    "\n",
    "sm = svm.SVC()\n",
    "\n",
    "kernels = ['linear', 'rbf', 'poly']\n",
    "Cs = [0.001, 0.01, 0.1, 1, 10]\n",
    "gammas = [0.001, 0.01, 0.1, 1]\n",
    "\n",
    "param_grid = dict(kernel = kernels, C = Cs, gamma = gammas)\n",
    "grid1 = GridSearchCV(estimator=sm, param_grid=param_grid, cv = 10)\n",
    "print(param_grid)\n",
    "\n",
    "grid_result1 = grid1.fit(X_tv, y_tv)\n",
    "# Summarize results\n",
    "print(\"Best: %f using %s\" % (grid_result1.best_score_, grid_result1.best_params_)) "
   ]
  },
  {
   "cell_type": "code",
   "execution_count": null,
   "metadata": {},
   "outputs": [],
   "source": [
    "Optsm = svm.SVC(C = 1, gamma=0.01, kernel = 'rbf')\n",
    "Optsm.fit(X_tv, y_tv)\n",
    "ypred= Optsm.predict(X_testHO)\n",
    "print('Prediction with Holdout test set using Optgb')\n",
    "\n",
    "print('Model score: ', Optsm.score(X_tv, y_tv))\n",
    "print('Accuracy:  ', metrics.accuracy_score(y_testHO, ypred))\n",
    "cm = metrics.confusion_matrix(y_testHO, ypred)\n",
    "print(\"Confusion Matrix: \")\n",
    "print(cm)\n",
    "print()"
   ]
  },
  {
   "cell_type": "code",
   "execution_count": null,
   "metadata": {},
   "outputs": [],
   "source": [
    "RFmodel = RandomForestClassifier()\n",
    "classifiers.append(RFmodel)\n",
    "\n",
    "DTmodel = DecisionTreeClassifier()\n",
    "classifiers.append(DTmodel)\n",
    "\n",
    "KNmodel = KNeighborsClassifier(n_neighbors=3)\n",
    "classifiers.append(KNmodel)\n",
    "\n",
    "ABmodel = AdaBoostClassifier()\n",
    "classifiers.append(ABmodel)\n"
   ]
  },
  {
   "cell_type": "code",
   "execution_count": null,
   "metadata": {},
   "outputs": [],
   "source": [
    "#examine augments\n",
    "from sklearn.model_selection import GridSearchCV\n",
    "n_estimators = [50, 100, 200]\n",
    "max_depth = [3, 5, 8, 15]\n",
    "min_samples_split = [2, 5, 10, 15]\n",
    "min_samples_leaf = [1, 2, 5, 10] \n",
    "\n",
    "hyperF = dict(n_estimators = n_estimators, max_depth = max_depth,  \n",
    "              min_samples_split = min_samples_split, \n",
    "             min_samples_leaf = min_samples_leaf)\n",
    "\n",
    "gridF = GridSearchCV(RFmodel, hyperF, cv = 5)\n",
    "bestF = gridF.fit(Xtr, ytr)\n",
    "print(gridF.best_params_)"
   ]
  },
  {
   "cell_type": "code",
   "execution_count": null,
   "metadata": {},
   "outputs": [],
   "source": [
    "RFmodel = RandomForestClassifier(max_depth = 3, min_samples_leaf = 10, min_samples_split = 10, n_estimators = 100)\n",
    "RFmodel.fit(Xtr, ytr)\n",
    "y_pred= RFmodel.predict(Xte)\n",
    "print(RFmodel)\n",
    "print('Model score: ', RFmodel.score(Xtr, ytr))\n",
    "print(\"Accuracy:  \", metrics.accuracy_score(yte, y_pred))\n",
    "cm = metrics.confusion_matrix(yte, y_pred)\n",
    "print(\"Confusion Matrix: \")\n",
    "print(cm)"
   ]
  },
  {
   "cell_type": "code",
   "execution_count": null,
   "metadata": {},
   "outputs": [],
   "source": []
  },
  {
   "cell_type": "code",
   "execution_count": null,
   "metadata": {},
   "outputs": [],
   "source": [
    "# load a saved model\n",
    "loaded_model = pickle.load(open(filename, 'rb'))\n",
    "result = loaded_model.score(X_test, Y_test)\n",
    "print(result)"
   ]
  },
  {
   "cell_type": "code",
   "execution_count": null,
   "metadata": {},
   "outputs": [],
   "source": [
    "from sklearn.metrics import roc_curve, auc\n",
    "false_positive_rate, true_positive_rate, thresholds = roc_curve(y_test, y_pred)\n",
    "roc_auc = auc(false_positive_rate, true_positive_rate)\n",
    "roc_auc"
   ]
  },
  {
   "cell_type": "code",
   "execution_count": null,
   "metadata": {},
   "outputs": [],
   "source": []
  }
 ],
 "metadata": {
  "kernelspec": {
   "display_name": "Python 3",
   "language": "python",
   "name": "python3"
  }
 },
 "nbformat": 4,
 "nbformat_minor": 2
}
